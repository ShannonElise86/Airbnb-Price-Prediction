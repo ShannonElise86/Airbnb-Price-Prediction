{
 "cells": [
  {
   "cell_type": "markdown",
   "metadata": {
    "slideshow": {
     "slide_type": "slide"
    }
   },
   "source": [
    "# Predicting Airbnb Listing Prices\n",
    "            San Francisco, CA\n",
    "### What can you expect to pay for a night in San Francisco?"
   ]
  },
  {
   "cell_type": "markdown",
   "metadata": {
    "slideshow": {
     "slide_type": "subslide"
    }
   },
   "source": [
    "Inside Airbnb is an independent, non-commercial set of tools and data that allows you to explore how Airbnb is really being used in cities around the world. When traveling, I almost always prefer to rent a home or apartment through Airbnb as opposed to booking a hotel. From experience (and some common knowledge) I assumed that location and accomodation size would be the most significant factors in price when booking a rental. Being from the San Francisco Bay Area, I was curious about the rentals in one of the most expensive cities in the world. "
   ]
  },
  {
   "cell_type": "code",
   "execution_count": 6,
   "metadata": {
    "scrolled": true,
    "slideshow": {
     "slide_type": "skip"
    }
   },
   "outputs": [],
   "source": [
    "import pandas as pd\n",
    "import numpy as np\n",
    "import matplotlib.pyplot as plt\n",
    "import seaborn as sns\n",
    "import math\n",
    "from sklearn import linear_model\n",
    "%matplotlib inline\n",
    "from sklearn.model_selection import train_test_split\n",
    "import warnings\n",
    "warnings.filterwarnings('ignore')\n",
    "sns.set_style(\"whitegrid\")"
   ]
  },
  {
   "cell_type": "markdown",
   "metadata": {
    "slideshow": {
     "slide_type": "slide"
    }
   },
   "source": [
    "# Loading and Exploring the Data Set"
   ]
  },
  {
   "cell_type": "code",
   "execution_count": 7,
   "metadata": {
    "scrolled": true,
    "slideshow": {
     "slide_type": "subslide"
    }
   },
   "outputs": [],
   "source": [
    "raw_df = pd.read_csv('sf_airbnb.csv', encoding=\"iso-8859-1\")"
   ]
  },
  {
   "cell_type": "code",
   "execution_count": 8,
   "metadata": {
    "scrolled": true,
    "slideshow": {
     "slide_type": "fragment"
    }
   },
   "outputs": [],
   "source": [
    "pd.set_option('display.width', 500)\n",
    "pd.set_option('display.max_columns', 50)\n",
    "pd.set_option('display.max_rows', 50)"
   ]
  },
  {
   "cell_type": "code",
   "execution_count": 9,
   "metadata": {
    "scrolled": false,
    "slideshow": {
     "slide_type": "fragment"
    }
   },
   "outputs": [
    {
     "data": {
      "text/html": [
       "<div>\n",
       "<style scoped>\n",
       "    .dataframe tbody tr th:only-of-type {\n",
       "        vertical-align: middle;\n",
       "    }\n",
       "\n",
       "    .dataframe tbody tr th {\n",
       "        vertical-align: top;\n",
       "    }\n",
       "\n",
       "    .dataframe thead th {\n",
       "        text-align: right;\n",
       "    }\n",
       "</style>\n",
       "<table border=\"1\" class=\"dataframe\">\n",
       "  <thead>\n",
       "    <tr style=\"text-align: right;\">\n",
       "      <th></th>\n",
       "      <th>id</th>\n",
       "      <th>listing_url</th>\n",
       "      <th>scrape_id</th>\n",
       "      <th>last_scraped</th>\n",
       "      <th>name</th>\n",
       "      <th>summary</th>\n",
       "      <th>space</th>\n",
       "      <th>description</th>\n",
       "      <th>experiences_offered</th>\n",
       "      <th>neighborhood_overview</th>\n",
       "      <th>notes</th>\n",
       "      <th>transit</th>\n",
       "      <th>access</th>\n",
       "      <th>interaction</th>\n",
       "      <th>house_rules</th>\n",
       "      <th>thumbnail_url</th>\n",
       "      <th>medium_url</th>\n",
       "      <th>picture_url</th>\n",
       "      <th>xl_picture_url</th>\n",
       "      <th>host_id</th>\n",
       "      <th>host_url</th>\n",
       "      <th>host_name</th>\n",
       "      <th>host_since</th>\n",
       "      <th>host_location</th>\n",
       "      <th>host_about</th>\n",
       "      <th>...</th>\n",
       "      <th>calendar_last_scraped</th>\n",
       "      <th>number_of_reviews</th>\n",
       "      <th>number_of_reviews_ltm</th>\n",
       "      <th>first_review</th>\n",
       "      <th>last_review</th>\n",
       "      <th>review_scores_rating</th>\n",
       "      <th>review_scores_accuracy</th>\n",
       "      <th>review_scores_cleanliness</th>\n",
       "      <th>review_scores_checkin</th>\n",
       "      <th>review_scores_communication</th>\n",
       "      <th>review_scores_location</th>\n",
       "      <th>review_scores_value</th>\n",
       "      <th>requires_license</th>\n",
       "      <th>license</th>\n",
       "      <th>jurisdiction_names</th>\n",
       "      <th>instant_bookable</th>\n",
       "      <th>is_business_travel_ready</th>\n",
       "      <th>cancellation_policy</th>\n",
       "      <th>require_guest_profile_picture</th>\n",
       "      <th>require_guest_phone_verification</th>\n",
       "      <th>calculated_host_listings_count</th>\n",
       "      <th>calculated_host_listings_count_entire_homes</th>\n",
       "      <th>calculated_host_listings_count_private_rooms</th>\n",
       "      <th>calculated_host_listings_count_shared_rooms</th>\n",
       "      <th>reviews_per_month</th>\n",
       "    </tr>\n",
       "  </thead>\n",
       "  <tbody>\n",
       "    <tr>\n",
       "      <td>0</td>\n",
       "      <td>958</td>\n",
       "      <td>https://www.airbnb.com/rooms/958</td>\n",
       "      <td>2.020000e+13</td>\n",
       "      <td>10/14/2019</td>\n",
       "      <td>Bright, Modern Garden Unit - 1BR/1B</td>\n",
       "      <td>New update: the house next door is under const...</td>\n",
       "      <td>Newly remodeled, modern, and bright garden uni...</td>\n",
       "      <td>New update: the house next door is under const...</td>\n",
       "      <td>none</td>\n",
       "      <td>*Quiet cul de sac in friendly neighborhood *St...</td>\n",
       "      <td>Due to the fact that we have children and a do...</td>\n",
       "      <td>*Public Transportation is 1/2 block away.  *Ce...</td>\n",
       "      <td>*Full access to patio and backyard (shared wit...</td>\n",
       "      <td>A family of 4 lives upstairs with their dog. N...</td>\n",
       "      <td>* No Pets - even visiting guests for a short t...</td>\n",
       "      <td>NaN</td>\n",
       "      <td>NaN</td>\n",
       "      <td>https://a0.muscache.com/im/pictures/b7c2a199-4...</td>\n",
       "      <td>NaN</td>\n",
       "      <td>1169</td>\n",
       "      <td>https://www.airbnb.com/users/show/1169</td>\n",
       "      <td>Holly</td>\n",
       "      <td>7/31/2008</td>\n",
       "      <td>San Francisco, California, United States</td>\n",
       "      <td>We are a family with 2 boys born in 2009 and 2...</td>\n",
       "      <td>...</td>\n",
       "      <td>10/14/2019</td>\n",
       "      <td>217</td>\n",
       "      <td>52</td>\n",
       "      <td>7/23/2009</td>\n",
       "      <td>9/21/2019</td>\n",
       "      <td>97.0</td>\n",
       "      <td>10.0</td>\n",
       "      <td>10.0</td>\n",
       "      <td>10.0</td>\n",
       "      <td>10.0</td>\n",
       "      <td>10.0</td>\n",
       "      <td>9.0</td>\n",
       "      <td>t</td>\n",
       "      <td>STR-0001256</td>\n",
       "      <td>{\"SAN FRANCISCO\"}</td>\n",
       "      <td>f</td>\n",
       "      <td>f</td>\n",
       "      <td>moderate</td>\n",
       "      <td>f</td>\n",
       "      <td>f</td>\n",
       "      <td>1</td>\n",
       "      <td>1</td>\n",
       "      <td>0</td>\n",
       "      <td>0</td>\n",
       "      <td>1.74</td>\n",
       "    </tr>\n",
       "    <tr>\n",
       "      <td>1</td>\n",
       "      <td>3850</td>\n",
       "      <td>https://www.airbnb.com/rooms/3850</td>\n",
       "      <td>2.020000e+13</td>\n",
       "      <td>10/14/2019</td>\n",
       "      <td>Charming room for two</td>\n",
       "      <td>Your own private room plus access to a shared ...</td>\n",
       "      <td>This room can fit two people. Nobody else will...</td>\n",
       "      <td>Your own private room plus access to a shared ...</td>\n",
       "      <td>none</td>\n",
       "      <td>This is a quiet, safe neighborhood on a substa...</td>\n",
       "      <td>House Rule footnotes: 1.\\tI donât allow chec...</td>\n",
       "      <td>Public transit service to my house is outstand...</td>\n",
       "      <td>During the hours of 7:00 to 22:00, your access...</td>\n",
       "      <td>I live at the house in my own bedroom, and I w...</td>\n",
       "      <td>Airbnb has no default house rules that hosts c...</td>\n",
       "      <td>NaN</td>\n",
       "      <td>NaN</td>\n",
       "      <td>https://a0.muscache.com/im/pictures/b6e97d2a-1...</td>\n",
       "      <td>NaN</td>\n",
       "      <td>4921</td>\n",
       "      <td>https://www.airbnb.com/users/show/4921</td>\n",
       "      <td>Kevin</td>\n",
       "      <td>12/8/2008</td>\n",
       "      <td>San Francisco, California, United States</td>\n",
       "      <td>I am a retired software developer now raising ...</td>\n",
       "      <td>...</td>\n",
       "      <td>10/14/2019</td>\n",
       "      <td>160</td>\n",
       "      <td>36</td>\n",
       "      <td>7/16/2009</td>\n",
       "      <td>9/30/2019</td>\n",
       "      <td>94.0</td>\n",
       "      <td>10.0</td>\n",
       "      <td>10.0</td>\n",
       "      <td>10.0</td>\n",
       "      <td>10.0</td>\n",
       "      <td>10.0</td>\n",
       "      <td>10.0</td>\n",
       "      <td>t</td>\n",
       "      <td>STR-0000346</td>\n",
       "      <td>{\"SAN FRANCISCO\"}</td>\n",
       "      <td>f</td>\n",
       "      <td>f</td>\n",
       "      <td>strict_14_with_grace_period</td>\n",
       "      <td>f</td>\n",
       "      <td>f</td>\n",
       "      <td>3</td>\n",
       "      <td>0</td>\n",
       "      <td>3</td>\n",
       "      <td>0</td>\n",
       "      <td>1.28</td>\n",
       "    </tr>\n",
       "    <tr>\n",
       "      <td>2</td>\n",
       "      <td>5858</td>\n",
       "      <td>https://www.airbnb.com/rooms/5858</td>\n",
       "      <td>2.020000e+13</td>\n",
       "      <td>10/14/2019</td>\n",
       "      <td>Creative Sanctuary</td>\n",
       "      <td>NaN</td>\n",
       "      <td>We live in a large Victorian house on a quiet ...</td>\n",
       "      <td>We live in a large Victorian house on a quiet ...</td>\n",
       "      <td>none</td>\n",
       "      <td>I love how our neighborhood feels quiet but is...</td>\n",
       "      <td>All the furniture in the house was handmade so...</td>\n",
       "      <td>The train is two blocks away and you can stop ...</td>\n",
       "      <td>Our deck, garden, gourmet kitchen and extensiv...</td>\n",
       "      <td>NaN</td>\n",
       "      <td>Please respect the house, the art work, the fu...</td>\n",
       "      <td>NaN</td>\n",
       "      <td>NaN</td>\n",
       "      <td>https://a0.muscache.com/im/pictures/17714/3a7a...</td>\n",
       "      <td>NaN</td>\n",
       "      <td>8904</td>\n",
       "      <td>https://www.airbnb.com/users/show/8904</td>\n",
       "      <td>Philip And Tania</td>\n",
       "      <td>3/2/2009</td>\n",
       "      <td>San Francisco, California, United States</td>\n",
       "      <td>Philip: English transplant to the Bay Area and...</td>\n",
       "      <td>...</td>\n",
       "      <td>10/14/2019</td>\n",
       "      <td>111</td>\n",
       "      <td>0</td>\n",
       "      <td>5/3/2009</td>\n",
       "      <td>8/6/2017</td>\n",
       "      <td>98.0</td>\n",
       "      <td>10.0</td>\n",
       "      <td>10.0</td>\n",
       "      <td>10.0</td>\n",
       "      <td>10.0</td>\n",
       "      <td>10.0</td>\n",
       "      <td>9.0</td>\n",
       "      <td>t</td>\n",
       "      <td>NaN</td>\n",
       "      <td>{\"SAN FRANCISCO\"}</td>\n",
       "      <td>f</td>\n",
       "      <td>f</td>\n",
       "      <td>strict_14_with_grace_period</td>\n",
       "      <td>f</td>\n",
       "      <td>f</td>\n",
       "      <td>1</td>\n",
       "      <td>1</td>\n",
       "      <td>0</td>\n",
       "      <td>0</td>\n",
       "      <td>0.87</td>\n",
       "    </tr>\n",
       "    <tr>\n",
       "      <td>3</td>\n",
       "      <td>7918</td>\n",
       "      <td>https://www.airbnb.com/rooms/7918</td>\n",
       "      <td>2.020000e+13</td>\n",
       "      <td>10/14/2019</td>\n",
       "      <td>A Friendly Room - UCSF/USF - San Francisco</td>\n",
       "      <td>Nice and good public transportation.  7 minute...</td>\n",
       "      <td>Settle down, S.F. resident, student, hospital,...</td>\n",
       "      <td>Nice and good public transportation.  7 minute...</td>\n",
       "      <td>none</td>\n",
       "      <td>Shopping old town, restaurants, McDonald, Whol...</td>\n",
       "      <td>Wi-Fi signal in common areas.   Large eat in k...</td>\n",
       "      <td>N Juda Muni and bus stop.  Street parking.</td>\n",
       "      <td>NaN</td>\n",
       "      <td>NaN</td>\n",
       "      <td>No party, No smoking, not for any kinds of smo...</td>\n",
       "      <td>NaN</td>\n",
       "      <td>NaN</td>\n",
       "      <td>https://a0.muscache.com/im/pictures/26356/8030...</td>\n",
       "      <td>NaN</td>\n",
       "      <td>21994</td>\n",
       "      <td>https://www.airbnb.com/users/show/21994</td>\n",
       "      <td>Aaron</td>\n",
       "      <td>6/17/2009</td>\n",
       "      <td>San Francisco, California, United States</td>\n",
       "      <td>7 minutes walk to UCSF hospital &amp; school campu...</td>\n",
       "      <td>...</td>\n",
       "      <td>10/14/2019</td>\n",
       "      <td>18</td>\n",
       "      <td>1</td>\n",
       "      <td>8/31/2009</td>\n",
       "      <td>9/10/2019</td>\n",
       "      <td>86.0</td>\n",
       "      <td>8.0</td>\n",
       "      <td>8.0</td>\n",
       "      <td>9.0</td>\n",
       "      <td>9.0</td>\n",
       "      <td>9.0</td>\n",
       "      <td>8.0</td>\n",
       "      <td>t</td>\n",
       "      <td>NaN</td>\n",
       "      <td>{\"SAN FRANCISCO\"}</td>\n",
       "      <td>f</td>\n",
       "      <td>f</td>\n",
       "      <td>strict_14_with_grace_period</td>\n",
       "      <td>f</td>\n",
       "      <td>f</td>\n",
       "      <td>9</td>\n",
       "      <td>0</td>\n",
       "      <td>9</td>\n",
       "      <td>0</td>\n",
       "      <td>0.15</td>\n",
       "    </tr>\n",
       "    <tr>\n",
       "      <td>4</td>\n",
       "      <td>8142</td>\n",
       "      <td>https://www.airbnb.com/rooms/8142</td>\n",
       "      <td>2.020000e+13</td>\n",
       "      <td>10/14/2019</td>\n",
       "      <td>Friendly Room Apt. Style -UCSF/USF - San Franc...</td>\n",
       "      <td>Nice and good public transportation.  7 minute...</td>\n",
       "      <td>Settle down, S.F. resident, student, hospital,...</td>\n",
       "      <td>Nice and good public transportation.  7 minute...</td>\n",
       "      <td>none</td>\n",
       "      <td>NaN</td>\n",
       "      <td>Wi-Fi signal in common areas.   Large eat in k...</td>\n",
       "      <td>N Juda Muni, Bus and UCSF Shuttle. small shopp...</td>\n",
       "      <td>NaN</td>\n",
       "      <td>NaN</td>\n",
       "      <td>no pet no smoke no party inside the building</td>\n",
       "      <td>NaN</td>\n",
       "      <td>NaN</td>\n",
       "      <td>https://a0.muscache.com/im/pictures/27832/3b1f...</td>\n",
       "      <td>NaN</td>\n",
       "      <td>21994</td>\n",
       "      <td>https://www.airbnb.com/users/show/21994</td>\n",
       "      <td>Aaron</td>\n",
       "      <td>6/17/2009</td>\n",
       "      <td>San Francisco, California, United States</td>\n",
       "      <td>7 minutes walk to UCSF hospital &amp; school campu...</td>\n",
       "      <td>...</td>\n",
       "      <td>10/14/2019</td>\n",
       "      <td>8</td>\n",
       "      <td>0</td>\n",
       "      <td>9/8/2014</td>\n",
       "      <td>9/12/2018</td>\n",
       "      <td>93.0</td>\n",
       "      <td>9.0</td>\n",
       "      <td>9.0</td>\n",
       "      <td>10.0</td>\n",
       "      <td>10.0</td>\n",
       "      <td>9.0</td>\n",
       "      <td>9.0</td>\n",
       "      <td>t</td>\n",
       "      <td>NaN</td>\n",
       "      <td>{\"SAN FRANCISCO\"}</td>\n",
       "      <td>f</td>\n",
       "      <td>f</td>\n",
       "      <td>strict_14_with_grace_period</td>\n",
       "      <td>f</td>\n",
       "      <td>f</td>\n",
       "      <td>9</td>\n",
       "      <td>0</td>\n",
       "      <td>9</td>\n",
       "      <td>0</td>\n",
       "      <td>0.13</td>\n",
       "    </tr>\n",
       "  </tbody>\n",
       "</table>\n",
       "<p>5 rows × 106 columns</p>\n",
       "</div>"
      ],
      "text/plain": [
       "     id                        listing_url     scrape_id last_scraped                                               name                                            summary                                              space                                        description experiences_offered                              neighborhood_overview                                              notes                                            transit                                             access  \\\n",
       "0   958   https://www.airbnb.com/rooms/958  2.020000e+13   10/14/2019                Bright, Modern Garden Unit - 1BR/1B  New update: the house next door is under const...  Newly remodeled, modern, and bright garden uni...  New update: the house next door is under const...                none  *Quiet cul de sac in friendly neighborhood *St...  Due to the fact that we have children and a do...  *Public Transportation is 1/2 block away.  *Ce...  *Full access to patio and backyard (shared wit...   \n",
       "1  3850  https://www.airbnb.com/rooms/3850  2.020000e+13   10/14/2019                              Charming room for two  Your own private room plus access to a shared ...  This room can fit two people. Nobody else will...  Your own private room plus access to a shared ...                none  This is a quiet, safe neighborhood on a substa...  House Rule footnotes: 1.\\tI donât allow chec...  Public transit service to my house is outstand...  During the hours of 7:00 to 22:00, your access...   \n",
       "2  5858  https://www.airbnb.com/rooms/5858  2.020000e+13   10/14/2019                                 Creative Sanctuary                                                NaN  We live in a large Victorian house on a quiet ...  We live in a large Victorian house on a quiet ...                none  I love how our neighborhood feels quiet but is...  All the furniture in the house was handmade so...  The train is two blocks away and you can stop ...  Our deck, garden, gourmet kitchen and extensiv...   \n",
       "3  7918  https://www.airbnb.com/rooms/7918  2.020000e+13   10/14/2019         A Friendly Room - UCSF/USF - San Francisco  Nice and good public transportation.  7 minute...  Settle down, S.F. resident, student, hospital,...  Nice and good public transportation.  7 minute...                none  Shopping old town, restaurants, McDonald, Whol...  Wi-Fi signal in common areas.   Large eat in k...         N Juda Muni and bus stop.  Street parking.                                                NaN   \n",
       "4  8142  https://www.airbnb.com/rooms/8142  2.020000e+13   10/14/2019  Friendly Room Apt. Style -UCSF/USF - San Franc...  Nice and good public transportation.  7 minute...  Settle down, S.F. resident, student, hospital,...  Nice and good public transportation.  7 minute...                none                                                NaN  Wi-Fi signal in common areas.   Large eat in k...  N Juda Muni, Bus and UCSF Shuttle. small shopp...                                                NaN   \n",
       "\n",
       "                                         interaction                                        house_rules  thumbnail_url  medium_url                                        picture_url  xl_picture_url  host_id                                 host_url         host_name host_since                             host_location                                         host_about  ... calendar_last_scraped number_of_reviews  number_of_reviews_ltm first_review last_review review_scores_rating  \\\n",
       "0  A family of 4 lives upstairs with their dog. N...  * No Pets - even visiting guests for a short t...            NaN         NaN  https://a0.muscache.com/im/pictures/b7c2a199-4...             NaN     1169   https://www.airbnb.com/users/show/1169             Holly  7/31/2008  San Francisco, California, United States  We are a family with 2 boys born in 2009 and 2...  ...            10/14/2019               217                     52    7/23/2009   9/21/2019                 97.0   \n",
       "1  I live at the house in my own bedroom, and I w...  Airbnb has no default house rules that hosts c...            NaN         NaN  https://a0.muscache.com/im/pictures/b6e97d2a-1...             NaN     4921   https://www.airbnb.com/users/show/4921             Kevin  12/8/2008  San Francisco, California, United States  I am a retired software developer now raising ...  ...            10/14/2019               160                     36    7/16/2009   9/30/2019                 94.0   \n",
       "2                                                NaN  Please respect the house, the art work, the fu...            NaN         NaN  https://a0.muscache.com/im/pictures/17714/3a7a...             NaN     8904   https://www.airbnb.com/users/show/8904  Philip And Tania   3/2/2009  San Francisco, California, United States  Philip: English transplant to the Bay Area and...  ...            10/14/2019               111                      0     5/3/2009    8/6/2017                 98.0   \n",
       "3                                                NaN  No party, No smoking, not for any kinds of smo...            NaN         NaN  https://a0.muscache.com/im/pictures/26356/8030...             NaN    21994  https://www.airbnb.com/users/show/21994             Aaron  6/17/2009  San Francisco, California, United States  7 minutes walk to UCSF hospital & school campu...  ...            10/14/2019                18                      1    8/31/2009   9/10/2019                 86.0   \n",
       "4                                                NaN       no pet no smoke no party inside the building            NaN         NaN  https://a0.muscache.com/im/pictures/27832/3b1f...             NaN    21994  https://www.airbnb.com/users/show/21994             Aaron  6/17/2009  San Francisco, California, United States  7 minutes walk to UCSF hospital & school campu...  ...            10/14/2019                 8                      0     9/8/2014   9/12/2018                 93.0   \n",
       "\n",
       "  review_scores_accuracy  review_scores_cleanliness  review_scores_checkin review_scores_communication review_scores_location review_scores_value requires_license      license jurisdiction_names  instant_bookable is_business_travel_ready          cancellation_policy require_guest_profile_picture require_guest_phone_verification calculated_host_listings_count calculated_host_listings_count_entire_homes calculated_host_listings_count_private_rooms  calculated_host_listings_count_shared_rooms  \\\n",
       "0                   10.0                       10.0                   10.0                        10.0                   10.0                 9.0                t  STR-0001256  {\"SAN FRANCISCO\"}                 f                        f                     moderate                             f                                f                              1                                           1                                            0                                            0   \n",
       "1                   10.0                       10.0                   10.0                        10.0                   10.0                10.0                t  STR-0000346  {\"SAN FRANCISCO\"}                 f                        f  strict_14_with_grace_period                             f                                f                              3                                           0                                            3                                            0   \n",
       "2                   10.0                       10.0                   10.0                        10.0                   10.0                 9.0                t          NaN  {\"SAN FRANCISCO\"}                 f                        f  strict_14_with_grace_period                             f                                f                              1                                           1                                            0                                            0   \n",
       "3                    8.0                        8.0                    9.0                         9.0                    9.0                 8.0                t          NaN  {\"SAN FRANCISCO\"}                 f                        f  strict_14_with_grace_period                             f                                f                              9                                           0                                            9                                            0   \n",
       "4                    9.0                        9.0                   10.0                        10.0                    9.0                 9.0                t          NaN  {\"SAN FRANCISCO\"}                 f                        f  strict_14_with_grace_period                             f                                f                              9                                           0                                            9                                            0   \n",
       "\n",
       "   reviews_per_month  \n",
       "0               1.74  \n",
       "1               1.28  \n",
       "2               0.87  \n",
       "3               0.15  \n",
       "4               0.13  \n",
       "\n",
       "[5 rows x 106 columns]"
      ]
     },
     "execution_count": 9,
     "metadata": {},
     "output_type": "execute_result"
    }
   ],
   "source": [
    "raw_df.head()"
   ]
  },
  {
   "cell_type": "code",
   "execution_count": 10,
   "metadata": {
    "scrolled": true,
    "slideshow": {
     "slide_type": "subslide"
    }
   },
   "outputs": [
    {
     "data": {
      "text/html": [
       "<div>\n",
       "<style scoped>\n",
       "    .dataframe tbody tr th:only-of-type {\n",
       "        vertical-align: middle;\n",
       "    }\n",
       "\n",
       "    .dataframe tbody tr th {\n",
       "        vertical-align: top;\n",
       "    }\n",
       "\n",
       "    .dataframe thead th {\n",
       "        text-align: right;\n",
       "    }\n",
       "</style>\n",
       "<table border=\"1\" class=\"dataframe\">\n",
       "  <thead>\n",
       "    <tr style=\"text-align: right;\">\n",
       "      <th></th>\n",
       "      <th>id</th>\n",
       "      <th>scrape_id</th>\n",
       "      <th>thumbnail_url</th>\n",
       "      <th>medium_url</th>\n",
       "      <th>xl_picture_url</th>\n",
       "      <th>host_id</th>\n",
       "      <th>host_acceptance_rate</th>\n",
       "      <th>host_listings_count</th>\n",
       "      <th>host_total_listings_count</th>\n",
       "      <th>neighbourhood_group_cleansed</th>\n",
       "      <th>latitude</th>\n",
       "      <th>longitude</th>\n",
       "      <th>accommodates</th>\n",
       "      <th>bathrooms</th>\n",
       "      <th>bedrooms</th>\n",
       "      <th>beds</th>\n",
       "      <th>square_feet</th>\n",
       "      <th>guests_included</th>\n",
       "      <th>minimum_nights</th>\n",
       "      <th>maximum_nights</th>\n",
       "      <th>minimum_minimum_nights</th>\n",
       "      <th>maximum_minimum_nights</th>\n",
       "      <th>minimum_maximum_nights</th>\n",
       "      <th>maximum_maximum_nights</th>\n",
       "      <th>minimum_nights_avg_ntm</th>\n",
       "      <th>maximum_nights_avg_ntm</th>\n",
       "      <th>availability_30</th>\n",
       "      <th>availability_60</th>\n",
       "      <th>availability_90</th>\n",
       "      <th>availability_365</th>\n",
       "      <th>number_of_reviews</th>\n",
       "      <th>number_of_reviews_ltm</th>\n",
       "      <th>review_scores_rating</th>\n",
       "      <th>review_scores_accuracy</th>\n",
       "      <th>review_scores_cleanliness</th>\n",
       "      <th>review_scores_checkin</th>\n",
       "      <th>review_scores_communication</th>\n",
       "      <th>review_scores_location</th>\n",
       "      <th>review_scores_value</th>\n",
       "      <th>calculated_host_listings_count</th>\n",
       "      <th>calculated_host_listings_count_entire_homes</th>\n",
       "      <th>calculated_host_listings_count_private_rooms</th>\n",
       "      <th>calculated_host_listings_count_shared_rooms</th>\n",
       "      <th>reviews_per_month</th>\n",
       "    </tr>\n",
       "  </thead>\n",
       "  <tbody>\n",
       "    <tr>\n",
       "      <td>count</td>\n",
       "      <td>8.111000e+03</td>\n",
       "      <td>8.111000e+03</td>\n",
       "      <td>0.0</td>\n",
       "      <td>0.0</td>\n",
       "      <td>0.0</td>\n",
       "      <td>8.111000e+03</td>\n",
       "      <td>0.0</td>\n",
       "      <td>8103.000000</td>\n",
       "      <td>8103.000000</td>\n",
       "      <td>0.0</td>\n",
       "      <td>8111.000000</td>\n",
       "      <td>8111.000000</td>\n",
       "      <td>8111.000000</td>\n",
       "      <td>8099.000000</td>\n",
       "      <td>8107.000000</td>\n",
       "      <td>8102.000000</td>\n",
       "      <td>124.000000</td>\n",
       "      <td>8111.000000</td>\n",
       "      <td>8.111000e+03</td>\n",
       "      <td>8.111000e+03</td>\n",
       "      <td>8.111000e+03</td>\n",
       "      <td>8.111000e+03</td>\n",
       "      <td>8.111000e+03</td>\n",
       "      <td>8.111000e+03</td>\n",
       "      <td>8.111000e+03</td>\n",
       "      <td>8.111000e+03</td>\n",
       "      <td>8111.000000</td>\n",
       "      <td>8111.000000</td>\n",
       "      <td>8111.000000</td>\n",
       "      <td>8111.000000</td>\n",
       "      <td>8111.000000</td>\n",
       "      <td>8111.000000</td>\n",
       "      <td>6460.000000</td>\n",
       "      <td>6457.000000</td>\n",
       "      <td>6457.000000</td>\n",
       "      <td>6456.000000</td>\n",
       "      <td>6458.000000</td>\n",
       "      <td>6456.000000</td>\n",
       "      <td>6456.000000</td>\n",
       "      <td>8111.000000</td>\n",
       "      <td>8111.000000</td>\n",
       "      <td>8111.000000</td>\n",
       "      <td>8111.000000</td>\n",
       "      <td>6506.000000</td>\n",
       "    </tr>\n",
       "    <tr>\n",
       "      <td>mean</td>\n",
       "      <td>2.024561e+07</td>\n",
       "      <td>2.020000e+13</td>\n",
       "      <td>NaN</td>\n",
       "      <td>NaN</td>\n",
       "      <td>NaN</td>\n",
       "      <td>6.159690e+07</td>\n",
       "      <td>NaN</td>\n",
       "      <td>90.421079</td>\n",
       "      <td>90.421079</td>\n",
       "      <td>NaN</td>\n",
       "      <td>37.766054</td>\n",
       "      <td>-122.430107</td>\n",
       "      <td>3.160769</td>\n",
       "      <td>1.395975</td>\n",
       "      <td>1.345874</td>\n",
       "      <td>1.744754</td>\n",
       "      <td>1046.177419</td>\n",
       "      <td>1.718407</td>\n",
       "      <td>1.234526e+04</td>\n",
       "      <td>1.284597e+04</td>\n",
       "      <td>1.234509e+04</td>\n",
       "      <td>1.235125e+04</td>\n",
       "      <td>2.775902e+05</td>\n",
       "      <td>2.775928e+05</td>\n",
       "      <td>1.235001e+04</td>\n",
       "      <td>2.775923e+05</td>\n",
       "      <td>9.255825</td>\n",
       "      <td>22.885341</td>\n",
       "      <td>39.619529</td>\n",
       "      <td>159.278881</td>\n",
       "      <td>45.203181</td>\n",
       "      <td>13.712736</td>\n",
       "      <td>95.421517</td>\n",
       "      <td>9.752207</td>\n",
       "      <td>9.603686</td>\n",
       "      <td>9.847584</td>\n",
       "      <td>9.817745</td>\n",
       "      <td>9.682776</td>\n",
       "      <td>9.375155</td>\n",
       "      <td>22.329799</td>\n",
       "      <td>18.201085</td>\n",
       "      <td>2.910985</td>\n",
       "      <td>0.496979</td>\n",
       "      <td>1.873298</td>\n",
       "    </tr>\n",
       "    <tr>\n",
       "      <td>std</td>\n",
       "      <td>1.228565e+07</td>\n",
       "      <td>0.000000e+00</td>\n",
       "      <td>NaN</td>\n",
       "      <td>NaN</td>\n",
       "      <td>NaN</td>\n",
       "      <td>8.017417e+07</td>\n",
       "      <td>NaN</td>\n",
       "      <td>324.526784</td>\n",
       "      <td>324.526784</td>\n",
       "      <td>NaN</td>\n",
       "      <td>0.022937</td>\n",
       "      <td>0.026967</td>\n",
       "      <td>1.896988</td>\n",
       "      <td>0.923213</td>\n",
       "      <td>0.925298</td>\n",
       "      <td>1.158799</td>\n",
       "      <td>827.297727</td>\n",
       "      <td>1.334492</td>\n",
       "      <td>1.110357e+06</td>\n",
       "      <td>1.110352e+06</td>\n",
       "      <td>1.110357e+06</td>\n",
       "      <td>1.110357e+06</td>\n",
       "      <td>2.387044e+07</td>\n",
       "      <td>2.387044e+07</td>\n",
       "      <td>1.110357e+06</td>\n",
       "      <td>2.387044e+07</td>\n",
       "      <td>10.586687</td>\n",
       "      <td>21.459500</td>\n",
       "      <td>32.125850</td>\n",
       "      <td>134.093744</td>\n",
       "      <td>78.437987</td>\n",
       "      <td>22.523539</td>\n",
       "      <td>7.571031</td>\n",
       "      <td>0.732872</td>\n",
       "      <td>0.839768</td>\n",
       "      <td>0.593539</td>\n",
       "      <td>0.659274</td>\n",
       "      <td>0.715906</td>\n",
       "      <td>0.879174</td>\n",
       "      <td>54.369225</td>\n",
       "      <td>53.333669</td>\n",
       "      <td>6.807334</td>\n",
       "      <td>2.669129</td>\n",
       "      <td>2.096730</td>\n",
       "    </tr>\n",
       "    <tr>\n",
       "      <td>min</td>\n",
       "      <td>9.580000e+02</td>\n",
       "      <td>2.020000e+13</td>\n",
       "      <td>NaN</td>\n",
       "      <td>NaN</td>\n",
       "      <td>NaN</td>\n",
       "      <td>2.800000e+01</td>\n",
       "      <td>NaN</td>\n",
       "      <td>0.000000</td>\n",
       "      <td>0.000000</td>\n",
       "      <td>NaN</td>\n",
       "      <td>37.704630</td>\n",
       "      <td>-122.513060</td>\n",
       "      <td>1.000000</td>\n",
       "      <td>0.000000</td>\n",
       "      <td>0.000000</td>\n",
       "      <td>0.000000</td>\n",
       "      <td>0.000000</td>\n",
       "      <td>1.000000</td>\n",
       "      <td>1.000000e+00</td>\n",
       "      <td>1.000000e+00</td>\n",
       "      <td>1.000000e+00</td>\n",
       "      <td>1.000000e+00</td>\n",
       "      <td>1.000000e+00</td>\n",
       "      <td>1.000000e+00</td>\n",
       "      <td>1.000000e+00</td>\n",
       "      <td>1.000000e+00</td>\n",
       "      <td>0.000000</td>\n",
       "      <td>0.000000</td>\n",
       "      <td>0.000000</td>\n",
       "      <td>0.000000</td>\n",
       "      <td>0.000000</td>\n",
       "      <td>0.000000</td>\n",
       "      <td>20.000000</td>\n",
       "      <td>2.000000</td>\n",
       "      <td>2.000000</td>\n",
       "      <td>2.000000</td>\n",
       "      <td>2.000000</td>\n",
       "      <td>2.000000</td>\n",
       "      <td>2.000000</td>\n",
       "      <td>1.000000</td>\n",
       "      <td>0.000000</td>\n",
       "      <td>0.000000</td>\n",
       "      <td>0.000000</td>\n",
       "      <td>0.010000</td>\n",
       "    </tr>\n",
       "    <tr>\n",
       "      <td>25%</td>\n",
       "      <td>8.905668e+06</td>\n",
       "      <td>2.020000e+13</td>\n",
       "      <td>NaN</td>\n",
       "      <td>NaN</td>\n",
       "      <td>NaN</td>\n",
       "      <td>4.386571e+06</td>\n",
       "      <td>NaN</td>\n",
       "      <td>1.000000</td>\n",
       "      <td>1.000000</td>\n",
       "      <td>NaN</td>\n",
       "      <td>37.751450</td>\n",
       "      <td>-122.442830</td>\n",
       "      <td>2.000000</td>\n",
       "      <td>1.000000</td>\n",
       "      <td>1.000000</td>\n",
       "      <td>1.000000</td>\n",
       "      <td>500.000000</td>\n",
       "      <td>1.000000</td>\n",
       "      <td>2.000000e+00</td>\n",
       "      <td>2.900000e+01</td>\n",
       "      <td>2.000000e+00</td>\n",
       "      <td>2.000000e+00</td>\n",
       "      <td>2.900000e+01</td>\n",
       "      <td>2.900000e+01</td>\n",
       "      <td>2.000000e+00</td>\n",
       "      <td>2.900000e+01</td>\n",
       "      <td>0.000000</td>\n",
       "      <td>0.000000</td>\n",
       "      <td>6.000000</td>\n",
       "      <td>28.000000</td>\n",
       "      <td>1.000000</td>\n",
       "      <td>0.000000</td>\n",
       "      <td>95.000000</td>\n",
       "      <td>10.000000</td>\n",
       "      <td>9.000000</td>\n",
       "      <td>10.000000</td>\n",
       "      <td>10.000000</td>\n",
       "      <td>10.000000</td>\n",
       "      <td>9.000000</td>\n",
       "      <td>1.000000</td>\n",
       "      <td>0.000000</td>\n",
       "      <td>0.000000</td>\n",
       "      <td>0.000000</td>\n",
       "      <td>0.300000</td>\n",
       "    </tr>\n",
       "    <tr>\n",
       "      <td>50%</td>\n",
       "      <td>2.161057e+07</td>\n",
       "      <td>2.020000e+13</td>\n",
       "      <td>NaN</td>\n",
       "      <td>NaN</td>\n",
       "      <td>NaN</td>\n",
       "      <td>2.178983e+07</td>\n",
       "      <td>NaN</td>\n",
       "      <td>2.000000</td>\n",
       "      <td>2.000000</td>\n",
       "      <td>NaN</td>\n",
       "      <td>37.769150</td>\n",
       "      <td>-122.424650</td>\n",
       "      <td>2.000000</td>\n",
       "      <td>1.000000</td>\n",
       "      <td>1.000000</td>\n",
       "      <td>1.000000</td>\n",
       "      <td>851.000000</td>\n",
       "      <td>1.000000</td>\n",
       "      <td>4.000000e+00</td>\n",
       "      <td>1.800000e+02</td>\n",
       "      <td>4.000000e+00</td>\n",
       "      <td>5.000000e+00</td>\n",
       "      <td>1.800000e+02</td>\n",
       "      <td>1.800000e+02</td>\n",
       "      <td>4.000000e+00</td>\n",
       "      <td>1.800000e+02</td>\n",
       "      <td>5.000000</td>\n",
       "      <td>19.000000</td>\n",
       "      <td>38.000000</td>\n",
       "      <td>133.000000</td>\n",
       "      <td>10.000000</td>\n",
       "      <td>2.000000</td>\n",
       "      <td>98.000000</td>\n",
       "      <td>10.000000</td>\n",
       "      <td>10.000000</td>\n",
       "      <td>10.000000</td>\n",
       "      <td>10.000000</td>\n",
       "      <td>10.000000</td>\n",
       "      <td>10.000000</td>\n",
       "      <td>2.000000</td>\n",
       "      <td>1.000000</td>\n",
       "      <td>0.000000</td>\n",
       "      <td>0.000000</td>\n",
       "      <td>1.010000</td>\n",
       "    </tr>\n",
       "    <tr>\n",
       "      <td>75%</td>\n",
       "      <td>3.120025e+07</td>\n",
       "      <td>2.020000e+13</td>\n",
       "      <td>NaN</td>\n",
       "      <td>NaN</td>\n",
       "      <td>NaN</td>\n",
       "      <td>1.000763e+08</td>\n",
       "      <td>NaN</td>\n",
       "      <td>12.000000</td>\n",
       "      <td>12.000000</td>\n",
       "      <td>NaN</td>\n",
       "      <td>37.785670</td>\n",
       "      <td>-122.410615</td>\n",
       "      <td>4.000000</td>\n",
       "      <td>1.500000</td>\n",
       "      <td>2.000000</td>\n",
       "      <td>2.000000</td>\n",
       "      <td>1492.500000</td>\n",
       "      <td>2.000000</td>\n",
       "      <td>3.000000e+01</td>\n",
       "      <td>1.125000e+03</td>\n",
       "      <td>3.000000e+01</td>\n",
       "      <td>3.000000e+01</td>\n",
       "      <td>1.125000e+03</td>\n",
       "      <td>1.125000e+03</td>\n",
       "      <td>3.000000e+01</td>\n",
       "      <td>1.125000e+03</td>\n",
       "      <td>17.000000</td>\n",
       "      <td>42.000000</td>\n",
       "      <td>69.500000</td>\n",
       "      <td>300.000000</td>\n",
       "      <td>54.000000</td>\n",
       "      <td>18.000000</td>\n",
       "      <td>100.000000</td>\n",
       "      <td>10.000000</td>\n",
       "      <td>10.000000</td>\n",
       "      <td>10.000000</td>\n",
       "      <td>10.000000</td>\n",
       "      <td>10.000000</td>\n",
       "      <td>10.000000</td>\n",
       "      <td>10.000000</td>\n",
       "      <td>2.000000</td>\n",
       "      <td>2.000000</td>\n",
       "      <td>0.000000</td>\n",
       "      <td>2.840000</td>\n",
       "    </tr>\n",
       "    <tr>\n",
       "      <td>max</td>\n",
       "      <td>3.935418e+07</td>\n",
       "      <td>2.020000e+13</td>\n",
       "      <td>NaN</td>\n",
       "      <td>NaN</td>\n",
       "      <td>NaN</td>\n",
       "      <td>3.016759e+08</td>\n",
       "      <td>NaN</td>\n",
       "      <td>1735.000000</td>\n",
       "      <td>1735.000000</td>\n",
       "      <td>NaN</td>\n",
       "      <td>37.828790</td>\n",
       "      <td>-122.368570</td>\n",
       "      <td>16.000000</td>\n",
       "      <td>14.000000</td>\n",
       "      <td>14.000000</td>\n",
       "      <td>14.000000</td>\n",
       "      <td>5500.000000</td>\n",
       "      <td>16.000000</td>\n",
       "      <td>1.000000e+08</td>\n",
       "      <td>1.000000e+08</td>\n",
       "      <td>1.000000e+08</td>\n",
       "      <td>1.000000e+08</td>\n",
       "      <td>2.147484e+09</td>\n",
       "      <td>2.147484e+09</td>\n",
       "      <td>1.000000e+08</td>\n",
       "      <td>2.147484e+09</td>\n",
       "      <td>30.000000</td>\n",
       "      <td>60.000000</td>\n",
       "      <td>90.000000</td>\n",
       "      <td>365.000000</td>\n",
       "      <td>757.000000</td>\n",
       "      <td>258.000000</td>\n",
       "      <td>100.000000</td>\n",
       "      <td>10.000000</td>\n",
       "      <td>10.000000</td>\n",
       "      <td>10.000000</td>\n",
       "      <td>10.000000</td>\n",
       "      <td>10.000000</td>\n",
       "      <td>10.000000</td>\n",
       "      <td>248.000000</td>\n",
       "      <td>248.000000</td>\n",
       "      <td>39.000000</td>\n",
       "      <td>26.000000</td>\n",
       "      <td>21.190000</td>\n",
       "    </tr>\n",
       "  </tbody>\n",
       "</table>\n",
       "</div>"
      ],
      "text/plain": [
       "                 id     scrape_id  thumbnail_url  medium_url  xl_picture_url       host_id  host_acceptance_rate  host_listings_count  host_total_listings_count  neighbourhood_group_cleansed     latitude    longitude  accommodates    bathrooms     bedrooms         beds  square_feet  guests_included  minimum_nights  maximum_nights  minimum_minimum_nights  maximum_minimum_nights  minimum_maximum_nights  maximum_maximum_nights  minimum_nights_avg_ntm  maximum_nights_avg_ntm  availability_30  \\\n",
       "count  8.111000e+03  8.111000e+03            0.0         0.0             0.0  8.111000e+03                   0.0          8103.000000                8103.000000                           0.0  8111.000000  8111.000000   8111.000000  8099.000000  8107.000000  8102.000000   124.000000      8111.000000    8.111000e+03    8.111000e+03            8.111000e+03            8.111000e+03            8.111000e+03            8.111000e+03            8.111000e+03            8.111000e+03      8111.000000   \n",
       "mean   2.024561e+07  2.020000e+13            NaN         NaN             NaN  6.159690e+07                   NaN            90.421079                  90.421079                           NaN    37.766054  -122.430107      3.160769     1.395975     1.345874     1.744754  1046.177419         1.718407    1.234526e+04    1.284597e+04            1.234509e+04            1.235125e+04            2.775902e+05            2.775928e+05            1.235001e+04            2.775923e+05         9.255825   \n",
       "std    1.228565e+07  0.000000e+00            NaN         NaN             NaN  8.017417e+07                   NaN           324.526784                 324.526784                           NaN     0.022937     0.026967      1.896988     0.923213     0.925298     1.158799   827.297727         1.334492    1.110357e+06    1.110352e+06            1.110357e+06            1.110357e+06            2.387044e+07            2.387044e+07            1.110357e+06            2.387044e+07        10.586687   \n",
       "min    9.580000e+02  2.020000e+13            NaN         NaN             NaN  2.800000e+01                   NaN             0.000000                   0.000000                           NaN    37.704630  -122.513060      1.000000     0.000000     0.000000     0.000000     0.000000         1.000000    1.000000e+00    1.000000e+00            1.000000e+00            1.000000e+00            1.000000e+00            1.000000e+00            1.000000e+00            1.000000e+00         0.000000   \n",
       "25%    8.905668e+06  2.020000e+13            NaN         NaN             NaN  4.386571e+06                   NaN             1.000000                   1.000000                           NaN    37.751450  -122.442830      2.000000     1.000000     1.000000     1.000000   500.000000         1.000000    2.000000e+00    2.900000e+01            2.000000e+00            2.000000e+00            2.900000e+01            2.900000e+01            2.000000e+00            2.900000e+01         0.000000   \n",
       "50%    2.161057e+07  2.020000e+13            NaN         NaN             NaN  2.178983e+07                   NaN             2.000000                   2.000000                           NaN    37.769150  -122.424650      2.000000     1.000000     1.000000     1.000000   851.000000         1.000000    4.000000e+00    1.800000e+02            4.000000e+00            5.000000e+00            1.800000e+02            1.800000e+02            4.000000e+00            1.800000e+02         5.000000   \n",
       "75%    3.120025e+07  2.020000e+13            NaN         NaN             NaN  1.000763e+08                   NaN            12.000000                  12.000000                           NaN    37.785670  -122.410615      4.000000     1.500000     2.000000     2.000000  1492.500000         2.000000    3.000000e+01    1.125000e+03            3.000000e+01            3.000000e+01            1.125000e+03            1.125000e+03            3.000000e+01            1.125000e+03        17.000000   \n",
       "max    3.935418e+07  2.020000e+13            NaN         NaN             NaN  3.016759e+08                   NaN          1735.000000                1735.000000                           NaN    37.828790  -122.368570     16.000000    14.000000    14.000000    14.000000  5500.000000        16.000000    1.000000e+08    1.000000e+08            1.000000e+08            1.000000e+08            2.147484e+09            2.147484e+09            1.000000e+08            2.147484e+09        30.000000   \n",
       "\n",
       "       availability_60  availability_90  availability_365  number_of_reviews  number_of_reviews_ltm  review_scores_rating  review_scores_accuracy  review_scores_cleanliness  review_scores_checkin  review_scores_communication  review_scores_location  review_scores_value  calculated_host_listings_count  calculated_host_listings_count_entire_homes  calculated_host_listings_count_private_rooms  calculated_host_listings_count_shared_rooms  reviews_per_month  \n",
       "count      8111.000000      8111.000000       8111.000000        8111.000000            8111.000000           6460.000000             6457.000000                6457.000000            6456.000000                  6458.000000             6456.000000          6456.000000                     8111.000000                                  8111.000000                                   8111.000000                                  8111.000000        6506.000000  \n",
       "mean         22.885341        39.619529        159.278881          45.203181              13.712736             95.421517                9.752207                   9.603686               9.847584                     9.817745                9.682776             9.375155                       22.329799                                    18.201085                                      2.910985                                     0.496979           1.873298  \n",
       "std          21.459500        32.125850        134.093744          78.437987              22.523539              7.571031                0.732872                   0.839768               0.593539                     0.659274                0.715906             0.879174                       54.369225                                    53.333669                                      6.807334                                     2.669129           2.096730  \n",
       "min           0.000000         0.000000          0.000000           0.000000               0.000000             20.000000                2.000000                   2.000000               2.000000                     2.000000                2.000000             2.000000                        1.000000                                     0.000000                                      0.000000                                     0.000000           0.010000  \n",
       "25%           0.000000         6.000000         28.000000           1.000000               0.000000             95.000000               10.000000                   9.000000              10.000000                    10.000000               10.000000             9.000000                        1.000000                                     0.000000                                      0.000000                                     0.000000           0.300000  \n",
       "50%          19.000000        38.000000        133.000000          10.000000               2.000000             98.000000               10.000000                  10.000000              10.000000                    10.000000               10.000000            10.000000                        2.000000                                     1.000000                                      0.000000                                     0.000000           1.010000  \n",
       "75%          42.000000        69.500000        300.000000          54.000000              18.000000            100.000000               10.000000                  10.000000              10.000000                    10.000000               10.000000            10.000000                       10.000000                                     2.000000                                      2.000000                                     0.000000           2.840000  \n",
       "max          60.000000        90.000000        365.000000         757.000000             258.000000            100.000000               10.000000                  10.000000              10.000000                    10.000000               10.000000            10.000000                      248.000000                                   248.000000                                     39.000000                                    26.000000          21.190000  "
      ]
     },
     "execution_count": 10,
     "metadata": {},
     "output_type": "execute_result"
    }
   ],
   "source": [
    "raw_df.describe()"
   ]
  },
  {
   "cell_type": "markdown",
   "metadata": {
    "slideshow": {
     "slide_type": "slide"
    }
   },
   "source": [
    "# Data Cleaning"
   ]
  },
  {
   "cell_type": "markdown",
   "metadata": {
    "slideshow": {
     "slide_type": "fragment"
    }
   },
   "source": [
    "After examining the head of the dataframe and the descriptive statistics for each column, I did an initial elimination of variables for various reasons."
   ]
  },
  {
   "cell_type": "markdown",
   "metadata": {
    "slideshow": {
     "slide_type": "subslide"
    }
   },
   "source": [
    "Id and url columns or columns with no values"
   ]
  },
  {
   "cell_type": "code",
   "execution_count": 11,
   "metadata": {
    "scrolled": true,
    "slideshow": {
     "slide_type": "fragment"
    }
   },
   "outputs": [],
   "source": [
    "raw_df.drop(['id','scrape_id','host_id','thumbnail_url', 'medium_url', 'xl_picture_url', 'listing_url', \n",
    "             'host_acceptance_rate', 'host_thumbnail_url', 'host_picture_url', 'picture_url', 'host_url',\n",
    "             'neighbourhood_group_cleansed','license'], axis=1, inplace=True)"
   ]
  },
  {
   "cell_type": "markdown",
   "metadata": {
    "slideshow": {
     "slide_type": "fragment"
    }
   },
   "source": [
    "Columns that are location specific. All listings are in San Francisco and I used the column, cleansed neighborhood, to identify the specific location."
   ]
  },
  {
   "cell_type": "code",
   "execution_count": 12,
   "metadata": {
    "scrolled": true,
    "slideshow": {
     "slide_type": "fragment"
    }
   },
   "outputs": [],
   "source": [
    "raw_df.drop(['street', 'neighbourhood','city', 'state', 'zipcode', 'market', 'smart_location', 'country_code',\n",
    "            'latitude', 'longitude','country'], axis=1, inplace=True)"
   ]
  },
  {
   "cell_type": "markdown",
   "metadata": {
    "slideshow": {
     "slide_type": "subslide"
    }
   },
   "source": [
    "Time sensitive columns"
   ]
  },
  {
   "cell_type": "code",
   "execution_count": 13,
   "metadata": {
    "scrolled": true,
    "slideshow": {
     "slide_type": "fragment"
    }
   },
   "outputs": [],
   "source": [
    "raw_df.drop(['last_scraped','calendar_updated', 'calendar_last_scraped','availability_30', 'availability_60', \n",
    "             'availability_90','availability_365', 'number_of_reviews_ltm', 'has_availability'], axis=1, inplace=True)"
   ]
  },
  {
   "cell_type": "markdown",
   "metadata": {
    "slideshow": {
     "slide_type": "fragment"
    }
   },
   "source": [
    "Text based columns"
   ]
  },
  {
   "cell_type": "code",
   "execution_count": 14,
   "metadata": {
    "scrolled": true,
    "slideshow": {
     "slide_type": "fragment"
    }
   },
   "outputs": [],
   "source": [
    "raw_df.drop(['name', 'summary', 'space', 'description', 'experiences_offered','neighborhood_overview', \n",
    "             'notes', 'transit', 'access', 'interaction', 'house_rules','host_name', \n",
    "             'host_since', 'host_location', 'host_about', \n",
    "             'host_neighbourhood', 'host_verifications','first_review', 'last_review', \n",
    "             'jurisdiction_names'], axis=1, inplace=True)"
   ]
  },
  {
   "cell_type": "markdown",
   "metadata": {
    "slideshow": {
     "slide_type": "subslide"
    }
   },
   "source": [
    "Other redundant or insignificant columns"
   ]
  },
  {
   "cell_type": "code",
   "execution_count": 15,
   "metadata": {
    "scrolled": true,
    "slideshow": {
     "slide_type": "fragment"
    }
   },
   "outputs": [],
   "source": [
    "raw_df.drop(['host_total_listings_count','square_feet','minimum_minimum_nights', 'maximum_minimum_nights', \n",
    "             'minimum_maximum_nights', 'maximum_maximum_nights','minimum_nights_avg_ntm', 'maximum_nights_avg_ntm',\n",
    "             'review_scores_accuracy', 'review_scores_cleanliness','review_scores_checkin', \n",
    "             'review_scores_communication', 'review_scores_location', 'review_scores_value', \n",
    "             'calculated_host_listings_count', 'calculated_host_listings_count_entire_homes', \n",
    "             'calculated_host_listings_count_private_rooms', \n",
    "             'calculated_host_listings_count_shared_rooms'], axis=1, inplace=True)"
   ]
  },
  {
   "cell_type": "markdown",
   "metadata": {
    "slideshow": {
     "slide_type": "slide"
    }
   },
   "source": [
    "Next, I addressed any missing values. I calculated the percent of null values and organized in descending order. "
   ]
  },
  {
   "cell_type": "code",
   "execution_count": 16,
   "metadata": {
    "scrolled": true,
    "slideshow": {
     "slide_type": "subslide"
    }
   },
   "outputs": [
    {
     "data": {
      "text/plain": [
       "monthly_price                       87.128591\n",
       "weekly_price                        86.820367\n",
       "security_deposit                    20.860560\n",
       "review_scores_rating                20.355073\n",
       "reviews_per_month                   19.787942\n",
       "host_response_rate                  11.428924\n",
       "host_response_time                  11.428924\n",
       "cleaning_fee                        11.391937\n",
       "bathrooms                            0.147947\n",
       "beds                                 0.110960\n",
       "host_is_superhost                    0.098631\n",
       "host_listings_count                  0.098631\n",
       "host_has_profile_pic                 0.098631\n",
       "host_identity_verified               0.098631\n",
       "bedrooms                             0.049316\n",
       "require_guest_profile_picture        0.000000\n",
       "neighbourhood_cleansed               0.000000\n",
       "is_location_exact                    0.000000\n",
       "property_type                        0.000000\n",
       "room_type                            0.000000\n",
       "accommodates                         0.000000\n",
       "requires_license                     0.000000\n",
       "number_of_reviews                    0.000000\n",
       "bed_type                             0.000000\n",
       "amenities                            0.000000\n",
       "require_guest_phone_verification     0.000000\n",
       "cancellation_policy                  0.000000\n",
       "is_business_travel_ready             0.000000\n",
       "instant_bookable                     0.000000\n",
       "guests_included                      0.000000\n",
       "extra_people                         0.000000\n",
       "minimum_nights                       0.000000\n",
       "maximum_nights                       0.000000\n",
       "price                                0.000000\n",
       "dtype: float64"
      ]
     },
     "execution_count": 16,
     "metadata": {},
     "output_type": "execute_result"
    }
   ],
   "source": [
    "(raw_df.isnull().sum()*100/raw_df.isnull().count()).sort_values(ascending=False)"
   ]
  },
  {
   "cell_type": "markdown",
   "metadata": {
    "slideshow": {
     "slide_type": "subslide"
    }
   },
   "source": [
    "Since monthly price and weekly price are missing greater than 80% of values, I dropped both of them. "
   ]
  },
  {
   "cell_type": "code",
   "execution_count": 17,
   "metadata": {
    "scrolled": true,
    "slideshow": {
     "slide_type": "fragment"
    }
   },
   "outputs": [],
   "source": [
    "raw_df.drop(['monthly_price', 'weekly_price'], axis=1, inplace=True)"
   ]
  },
  {
   "cell_type": "markdown",
   "metadata": {
    "slideshow": {
     "slide_type": "subslide"
    }
   },
   "source": [
    "Next, I took a closer look at the columns I planned to keep. A few columns need formatting and cleaning up. "
   ]
  },
  {
   "cell_type": "code",
   "execution_count": 18,
   "metadata": {
    "scrolled": true,
    "slideshow": {
     "slide_type": "fragment"
    }
   },
   "outputs": [
    {
     "data": {
      "text/html": [
       "<div>\n",
       "<style scoped>\n",
       "    .dataframe tbody tr th:only-of-type {\n",
       "        vertical-align: middle;\n",
       "    }\n",
       "\n",
       "    .dataframe tbody tr th {\n",
       "        vertical-align: top;\n",
       "    }\n",
       "\n",
       "    .dataframe thead th {\n",
       "        text-align: right;\n",
       "    }\n",
       "</style>\n",
       "<table border=\"1\" class=\"dataframe\">\n",
       "  <thead>\n",
       "    <tr style=\"text-align: right;\">\n",
       "      <th></th>\n",
       "      <th>host_response_time</th>\n",
       "      <th>host_response_rate</th>\n",
       "      <th>host_is_superhost</th>\n",
       "      <th>host_listings_count</th>\n",
       "      <th>host_has_profile_pic</th>\n",
       "      <th>host_identity_verified</th>\n",
       "      <th>neighbourhood_cleansed</th>\n",
       "      <th>is_location_exact</th>\n",
       "      <th>property_type</th>\n",
       "      <th>room_type</th>\n",
       "      <th>accommodates</th>\n",
       "      <th>bathrooms</th>\n",
       "      <th>bedrooms</th>\n",
       "      <th>beds</th>\n",
       "      <th>bed_type</th>\n",
       "      <th>amenities</th>\n",
       "      <th>price</th>\n",
       "      <th>security_deposit</th>\n",
       "      <th>cleaning_fee</th>\n",
       "      <th>guests_included</th>\n",
       "      <th>extra_people</th>\n",
       "      <th>minimum_nights</th>\n",
       "      <th>maximum_nights</th>\n",
       "      <th>number_of_reviews</th>\n",
       "      <th>review_scores_rating</th>\n",
       "      <th>requires_license</th>\n",
       "      <th>instant_bookable</th>\n",
       "      <th>is_business_travel_ready</th>\n",
       "      <th>cancellation_policy</th>\n",
       "      <th>require_guest_profile_picture</th>\n",
       "      <th>require_guest_phone_verification</th>\n",
       "      <th>reviews_per_month</th>\n",
       "    </tr>\n",
       "  </thead>\n",
       "  <tbody>\n",
       "    <tr>\n",
       "      <td>0</td>\n",
       "      <td>within a day</td>\n",
       "      <td>100%</td>\n",
       "      <td>t</td>\n",
       "      <td>1.0</td>\n",
       "      <td>t</td>\n",
       "      <td>t</td>\n",
       "      <td>Western Addition</td>\n",
       "      <td>t</td>\n",
       "      <td>Apartment</td>\n",
       "      <td>Entire home/apt</td>\n",
       "      <td>3</td>\n",
       "      <td>1.0</td>\n",
       "      <td>1.0</td>\n",
       "      <td>2.0</td>\n",
       "      <td>Real Bed</td>\n",
       "      <td>{TV,\"Cable TV\",Internet,Wifi,Kitchen,\"Pets liv...</td>\n",
       "      <td>$170.00</td>\n",
       "      <td>$100.00</td>\n",
       "      <td>$100.00</td>\n",
       "      <td>2</td>\n",
       "      <td>$25.00</td>\n",
       "      <td>1</td>\n",
       "      <td>30</td>\n",
       "      <td>217</td>\n",
       "      <td>97.0</td>\n",
       "      <td>t</td>\n",
       "      <td>f</td>\n",
       "      <td>f</td>\n",
       "      <td>moderate</td>\n",
       "      <td>f</td>\n",
       "      <td>f</td>\n",
       "      <td>1.74</td>\n",
       "    </tr>\n",
       "    <tr>\n",
       "      <td>1</td>\n",
       "      <td>within an hour</td>\n",
       "      <td>100%</td>\n",
       "      <td>t</td>\n",
       "      <td>2.0</td>\n",
       "      <td>t</td>\n",
       "      <td>t</td>\n",
       "      <td>Inner Sunset</td>\n",
       "      <td>t</td>\n",
       "      <td>House</td>\n",
       "      <td>Private room</td>\n",
       "      <td>2</td>\n",
       "      <td>1.0</td>\n",
       "      <td>1.0</td>\n",
       "      <td>1.0</td>\n",
       "      <td>Real Bed</td>\n",
       "      <td>{Internet,Wifi,Kitchen,Breakfast,\"Free street ...</td>\n",
       "      <td>$99.00</td>\n",
       "      <td>$0.00</td>\n",
       "      <td>$10.00</td>\n",
       "      <td>2</td>\n",
       "      <td>$20.00</td>\n",
       "      <td>1</td>\n",
       "      <td>5</td>\n",
       "      <td>160</td>\n",
       "      <td>94.0</td>\n",
       "      <td>t</td>\n",
       "      <td>f</td>\n",
       "      <td>f</td>\n",
       "      <td>strict_14_with_grace_period</td>\n",
       "      <td>f</td>\n",
       "      <td>f</td>\n",
       "      <td>1.28</td>\n",
       "    </tr>\n",
       "    <tr>\n",
       "      <td>2</td>\n",
       "      <td>within a day</td>\n",
       "      <td>80%</td>\n",
       "      <td>f</td>\n",
       "      <td>2.0</td>\n",
       "      <td>t</td>\n",
       "      <td>t</td>\n",
       "      <td>Bernal Heights</td>\n",
       "      <td>t</td>\n",
       "      <td>Apartment</td>\n",
       "      <td>Entire home/apt</td>\n",
       "      <td>5</td>\n",
       "      <td>1.0</td>\n",
       "      <td>2.0</td>\n",
       "      <td>3.0</td>\n",
       "      <td>Real Bed</td>\n",
       "      <td>{Internet,Wifi,Kitchen,Heating,\"Family/kid fri...</td>\n",
       "      <td>$235.00</td>\n",
       "      <td>NaN</td>\n",
       "      <td>$100.00</td>\n",
       "      <td>2</td>\n",
       "      <td>$0.00</td>\n",
       "      <td>30</td>\n",
       "      <td>60</td>\n",
       "      <td>111</td>\n",
       "      <td>98.0</td>\n",
       "      <td>t</td>\n",
       "      <td>f</td>\n",
       "      <td>f</td>\n",
       "      <td>strict_14_with_grace_period</td>\n",
       "      <td>f</td>\n",
       "      <td>f</td>\n",
       "      <td>0.87</td>\n",
       "    </tr>\n",
       "    <tr>\n",
       "      <td>3</td>\n",
       "      <td>within an hour</td>\n",
       "      <td>86%</td>\n",
       "      <td>t</td>\n",
       "      <td>10.0</td>\n",
       "      <td>t</td>\n",
       "      <td>t</td>\n",
       "      <td>Haight Ashbury</td>\n",
       "      <td>t</td>\n",
       "      <td>Apartment</td>\n",
       "      <td>Private room</td>\n",
       "      <td>2</td>\n",
       "      <td>4.0</td>\n",
       "      <td>1.0</td>\n",
       "      <td>1.0</td>\n",
       "      <td>Real Bed</td>\n",
       "      <td>{TV,Internet,Wifi,Kitchen,\"Free street parking...</td>\n",
       "      <td>$65.00</td>\n",
       "      <td>$200.00</td>\n",
       "      <td>$50.00</td>\n",
       "      <td>1</td>\n",
       "      <td>$12.00</td>\n",
       "      <td>32</td>\n",
       "      <td>60</td>\n",
       "      <td>18</td>\n",
       "      <td>86.0</td>\n",
       "      <td>t</td>\n",
       "      <td>f</td>\n",
       "      <td>f</td>\n",
       "      <td>strict_14_with_grace_period</td>\n",
       "      <td>f</td>\n",
       "      <td>f</td>\n",
       "      <td>0.15</td>\n",
       "    </tr>\n",
       "    <tr>\n",
       "      <td>4</td>\n",
       "      <td>within an hour</td>\n",
       "      <td>86%</td>\n",
       "      <td>t</td>\n",
       "      <td>10.0</td>\n",
       "      <td>t</td>\n",
       "      <td>t</td>\n",
       "      <td>Haight Ashbury</td>\n",
       "      <td>t</td>\n",
       "      <td>Apartment</td>\n",
       "      <td>Private room</td>\n",
       "      <td>2</td>\n",
       "      <td>4.0</td>\n",
       "      <td>1.0</td>\n",
       "      <td>1.0</td>\n",
       "      <td>Real Bed</td>\n",
       "      <td>{TV,Internet,Wifi,Kitchen,\"Free street parking...</td>\n",
       "      <td>$65.00</td>\n",
       "      <td>$200.00</td>\n",
       "      <td>$50.00</td>\n",
       "      <td>1</td>\n",
       "      <td>$12.00</td>\n",
       "      <td>32</td>\n",
       "      <td>90</td>\n",
       "      <td>8</td>\n",
       "      <td>93.0</td>\n",
       "      <td>t</td>\n",
       "      <td>f</td>\n",
       "      <td>f</td>\n",
       "      <td>strict_14_with_grace_period</td>\n",
       "      <td>f</td>\n",
       "      <td>f</td>\n",
       "      <td>0.13</td>\n",
       "    </tr>\n",
       "  </tbody>\n",
       "</table>\n",
       "</div>"
      ],
      "text/plain": [
       "  host_response_time host_response_rate host_is_superhost  host_listings_count host_has_profile_pic host_identity_verified neighbourhood_cleansed is_location_exact property_type        room_type  accommodates  bathrooms  bedrooms  beds  bed_type                                          amenities     price security_deposit cleaning_fee  guests_included extra_people  minimum_nights  maximum_nights  number_of_reviews  review_scores_rating requires_license instant_bookable  \\\n",
       "0       within a day               100%                 t                  1.0                    t                      t       Western Addition                 t     Apartment  Entire home/apt             3        1.0       1.0   2.0  Real Bed  {TV,\"Cable TV\",Internet,Wifi,Kitchen,\"Pets liv...  $170.00          $100.00      $100.00                 2      $25.00                1              30                217                  97.0                t                f   \n",
       "1     within an hour               100%                 t                  2.0                    t                      t           Inner Sunset                 t         House     Private room             2        1.0       1.0   1.0  Real Bed  {Internet,Wifi,Kitchen,Breakfast,\"Free street ...   $99.00            $0.00       $10.00                 2      $20.00                1               5                160                  94.0                t                f   \n",
       "2       within a day                80%                 f                  2.0                    t                      t         Bernal Heights                 t     Apartment  Entire home/apt             5        1.0       2.0   3.0  Real Bed  {Internet,Wifi,Kitchen,Heating,\"Family/kid fri...  $235.00               NaN     $100.00                 2       $0.00               30              60                111                  98.0                t                f   \n",
       "3     within an hour                86%                 t                 10.0                    t                      t         Haight Ashbury                 t     Apartment     Private room             2        4.0       1.0   1.0  Real Bed  {TV,Internet,Wifi,Kitchen,\"Free street parking...   $65.00          $200.00       $50.00                 1      $12.00               32              60                 18                  86.0                t                f   \n",
       "4     within an hour                86%                 t                 10.0                    t                      t         Haight Ashbury                 t     Apartment     Private room             2        4.0       1.0   1.0  Real Bed  {TV,Internet,Wifi,Kitchen,\"Free street parking...   $65.00          $200.00       $50.00                 1      $12.00               32              90                  8                  93.0                t                f   \n",
       "\n",
       "  is_business_travel_ready          cancellation_policy require_guest_profile_picture require_guest_phone_verification  reviews_per_month  \n",
       "0                        f                     moderate                             f                                f               1.74  \n",
       "1                        f  strict_14_with_grace_period                             f                                f               1.28  \n",
       "2                        f  strict_14_with_grace_period                             f                                f               0.87  \n",
       "3                        f  strict_14_with_grace_period                             f                                f               0.15  \n",
       "4                        f  strict_14_with_grace_period                             f                                f               0.13  "
      ]
     },
     "execution_count": 18,
     "metadata": {},
     "output_type": "execute_result"
    }
   ],
   "source": [
    "raw_df.head()"
   ]
  },
  {
   "cell_type": "code",
   "execution_count": 19,
   "metadata": {
    "scrolled": true,
    "slideshow": {
     "slide_type": "subslide"
    }
   },
   "outputs": [],
   "source": [
    "money_columns =['price', 'security_deposit', 'cleaning_fee', 'extra_people']\n",
    "for col in money_columns:\n",
    "    raw_df[col] = pd.to_numeric(raw_df[col].str.strip('$'), errors='coerce')"
   ]
  },
  {
   "cell_type": "code",
   "execution_count": 20,
   "metadata": {
    "scrolled": true,
    "slideshow": {
     "slide_type": "fragment"
    }
   },
   "outputs": [],
   "source": [
    "raw_df.replace({'f': 0, 't': 1}, inplace=True)"
   ]
  },
  {
   "cell_type": "code",
   "execution_count": 21,
   "metadata": {
    "scrolled": true,
    "slideshow": {
     "slide_type": "fragment"
    }
   },
   "outputs": [],
   "source": [
    "raw_df['host_response_rate'] = pd.to_numeric(raw_df['host_response_rate'].str.strip('%'), errors='coerce')"
   ]
  },
  {
   "cell_type": "code",
   "execution_count": 22,
   "metadata": {
    "scrolled": true,
    "slideshow": {
     "slide_type": "fragment"
    }
   },
   "outputs": [],
   "source": [
    "raw_df['security_deposit'].fillna(0, inplace=True)\n",
    "raw_df['cleaning_fee'].fillna(0, inplace=True)\n",
    "raw_df['host_is_superhost'].fillna(0, inplace=True)\n",
    "raw_df['host_has_profile_pic'].fillna(0, inplace=True)\n",
    "raw_df['host_identity_verified'].fillna(0, inplace=True)"
   ]
  },
  {
   "cell_type": "markdown",
   "metadata": {
    "slideshow": {
     "slide_type": "subslide"
    }
   },
   "source": [
    "Amenities is a complicated variable. It is a list of the amenities that are included for each rental. While some amenities are more significant than others, I decided to turn the column into the length of the amenities."
   ]
  },
  {
   "cell_type": "code",
   "execution_count": 23,
   "metadata": {
    "scrolled": true,
    "slideshow": {
     "slide_type": "fragment"
    }
   },
   "outputs": [],
   "source": [
    "raw_df['amenities'] = raw_df.amenities.str.split(',')\n",
    "raw_df['amenities_number'] = raw_df['amenities'].str.len()\n",
    "raw_df.drop(['amenities'], axis=1, inplace=True)"
   ]
  },
  {
   "cell_type": "code",
   "execution_count": 24,
   "metadata": {
    "scrolled": false,
    "slideshow": {
     "slide_type": "skip"
    }
   },
   "outputs": [
    {
     "data": {
      "text/plain": [
       "host_response_time                   object\n",
       "host_response_rate                  float64\n",
       "host_is_superhost                   float64\n",
       "host_listings_count                 float64\n",
       "host_has_profile_pic                float64\n",
       "host_identity_verified              float64\n",
       "neighbourhood_cleansed               object\n",
       "is_location_exact                     int64\n",
       "property_type                        object\n",
       "room_type                            object\n",
       "accommodates                          int64\n",
       "bathrooms                           float64\n",
       "bedrooms                            float64\n",
       "beds                                float64\n",
       "bed_type                             object\n",
       "price                               float64\n",
       "security_deposit                    float64\n",
       "cleaning_fee                        float64\n",
       "guests_included                       int64\n",
       "extra_people                        float64\n",
       "minimum_nights                        int64\n",
       "maximum_nights                        int64\n",
       "number_of_reviews                     int64\n",
       "review_scores_rating                float64\n",
       "requires_license                      int64\n",
       "instant_bookable                      int64\n",
       "is_business_travel_ready              int64\n",
       "cancellation_policy                  object\n",
       "require_guest_profile_picture         int64\n",
       "require_guest_phone_verification      int64\n",
       "reviews_per_month                   float64\n",
       "amenities_number                      int64\n",
       "dtype: object"
      ]
     },
     "execution_count": 24,
     "metadata": {},
     "output_type": "execute_result"
    }
   ],
   "source": [
    "raw_df.dtypes"
   ]
  },
  {
   "cell_type": "markdown",
   "metadata": {
    "slideshow": {
     "slide_type": "slide"
    }
   },
   "source": [
    "## Categorical Data"
   ]
  },
  {
   "cell_type": "markdown",
   "metadata": {
    "slideshow": {
     "slide_type": "fragment"
    }
   },
   "source": [
    "To better understand the remaining variables, I split them into two types: Categorical and Continuous"
   ]
  },
  {
   "cell_type": "code",
   "execution_count": 25,
   "metadata": {
    "scrolled": true,
    "slideshow": {
     "slide_type": "subslide"
    }
   },
   "outputs": [
    {
     "name": "stdout",
     "output_type": "stream",
     "text": [
      "Index(['host_response_time', 'neighbourhood_cleansed', 'property_type', 'room_type', 'bed_type', 'cancellation_policy'], dtype='object')\n",
      "The number of non-numerical columns is 6\n"
     ]
    }
   ],
   "source": [
    "non_numeric_columns = raw_df.select_dtypes(['object']).columns\n",
    "print(non_numeric_columns)\n",
    "print(\"The number of non-numerical columns is {}\".format(len(non_numeric_columns)))"
   ]
  },
  {
   "cell_type": "code",
   "execution_count": null,
   "metadata": {
    "cell_style": "center",
    "scrolled": true,
    "slideshow": {
     "slide_type": "subslide"
    }
   },
   "outputs": [],
   "source": [
    "plt.figure(figsize=(30,50))\n",
    "\n",
    "for index, column in enumerate(non_numeric_columns):\n",
    "    plt.subplot(4,3,index+1)\n",
    "    plt.bar(raw_df.groupby(column)[\"price\"].mean().index, raw_df.groupby(column)[\"price\"].mean(),\n",
    "           color=(\"grey\",\"green\"))\n",
    "    plt.title(\"Average price wrt. {}\".format(column))\n",
    "    plt.ylabel(\"Average price\")\n",
    "    plt.xlabel(column)\n",
    "    plt.xticks(rotation='vertical')"
   ]
  },
  {
   "cell_type": "code",
   "execution_count": 26,
   "metadata": {
    "cell_style": "center",
    "scrolled": true,
    "slideshow": {
     "slide_type": "subslide"
    }
   },
   "outputs": [
    {
     "data": {
      "image/png": "[encoded data removed]",
      "text/plain": [
       "<Figure size 2160x3600 with 6 Axes>"
      ]
     },
     "metadata": {
      "needs_background": "light"
     },
     "output_type": "display_data"
    }
   ],
   "source": [
    "plt.tight_layout()\n",
    "plt.show()"
   ]
  },
  {
   "cell_type": "markdown",
   "metadata": {
    "slideshow": {
     "slide_type": "subslide"
    }
   },
   "source": [
    "After investigating \"bed type\", it looks like those that say other than bed also have an actual bed in addition to a couch, futon, etc. I dropped the column bed type. "
   ]
  },
  {
   "cell_type": "code",
   "execution_count": 27,
   "metadata": {
    "scrolled": true,
    "slideshow": {
     "slide_type": "fragment"
    }
   },
   "outputs": [],
   "source": [
    "raw_df.drop(['bed_type'], axis=1, inplace=True)"
   ]
  },
  {
   "cell_type": "code",
   "execution_count": 28,
   "metadata": {
    "scrolled": true,
    "slideshow": {
     "slide_type": "subslide"
    }
   },
   "outputs": [],
   "source": [
    "raw_df.property_type.replace({\n",
    "    'Townhouse': 'House',\n",
    "    'Condominium' : 'Apartment',\n",
    "    'Serviced apartment': 'Apartment',\n",
    "    'Hostel': 'Apartment',\n",
    "    'Loft': 'Apartment',\n",
    "    'Aparthotel': 'Apartment',\n",
    "    'Bungalow': 'House',\n",
    "    'Cottage': 'House',\n",
    "    'Villa': 'House',\n",
    "    'Tiny house': 'House',\n",
    "    'Guesthouse': 'House',\n",
    "    'Earth house': 'House',\n",
    "    'Chalet': 'House'  \n",
    "    }, inplace=True)\n",
    "\n",
    "# Replacing other categories with 'other'\n",
    "raw_df.loc[~raw_df.property_type.isin(['House', 'Apartment']), 'property_type'] = 'Other'"
   ]
  },
  {
   "cell_type": "code",
   "execution_count": 29,
   "metadata": {
    "scrolled": true,
    "slideshow": {
     "slide_type": "fragment"
    }
   },
   "outputs": [],
   "source": [
    "raw_df['host_response_time'].fillna(\"unknown\", inplace=True)"
   ]
  },
  {
   "cell_type": "markdown",
   "metadata": {
    "slideshow": {
     "slide_type": "subslide"
    }
   },
   "source": [
    "With the remaining categorical variables, I converted them into dummies and added the columns to the dataframe. "
   ]
  },
  {
   "cell_type": "code",
   "execution_count": 30,
   "metadata": {
    "scrolled": true,
    "slideshow": {
     "slide_type": "fragment"
    }
   },
   "outputs": [],
   "source": [
    "dummy_list = ['host_response_time', 'neighbourhood_cleansed', 'property_type', 'room_type','cancellation_policy']\n",
    "for col in dummy_list:\n",
    "    raw_df = pd.concat([raw_df,pd.get_dummies(raw_df[col], prefix=col, drop_first=True)], axis=1)\n",
    "    dummy_column_names = list(pd.get_dummies(raw_df[col], prefix=col, drop_first=True).columns)"
   ]
  },
  {
   "cell_type": "code",
   "execution_count": 31,
   "metadata": {
    "scrolled": true,
    "slideshow": {
     "slide_type": "fragment"
    }
   },
   "outputs": [],
   "source": [
    "raw_df.drop(['host_response_time', 'neighbourhood_cleansed', 'property_type', 'room_type','cancellation_policy'], axis=1, inplace=True)"
   ]
  },
  {
   "cell_type": "markdown",
   "metadata": {
    "slideshow": {
     "slide_type": "slide"
    }
   },
   "source": [
    "## Continuous Data"
   ]
  },
  {
   "cell_type": "code",
   "execution_count": 32,
   "metadata": {
    "scrolled": true,
    "slideshow": {
     "slide_type": "subslide"
    }
   },
   "outputs": [
    {
     "name": "stdout",
     "output_type": "stream",
     "text": [
      "Index(['host_response_rate', 'host_is_superhost', 'host_listings_count', 'host_has_profile_pic', 'host_identity_verified', 'is_location_exact', 'accommodates', 'bathrooms', 'bedrooms', 'beds', 'price', 'security_deposit', 'cleaning_fee', 'guests_included', 'extra_people', 'minimum_nights', 'maximum_nights', 'number_of_reviews', 'review_scores_rating', 'requires_license', 'instant_bookable', 'is_business_travel_ready', 'require_guest_profile_picture', 'require_guest_phone_verification',\n",
      "       'reviews_per_month', 'amenities_number'],\n",
      "      dtype='object')\n",
      "The number of numerical columns is 26\n"
     ]
    }
   ],
   "source": [
    "numeric_columns = raw_df.select_dtypes(['int64', 'float64']).columns\n",
    "print(numeric_columns)\n",
    "print(\"The number of numerical columns is {}\".format(len(numeric_columns)))"
   ]
  },
  {
   "cell_type": "code",
   "execution_count": 67,
   "metadata": {
    "scrolled": true,
    "slideshow": {
     "slide_type": "subslide"
    }
   },
   "outputs": [
    {
     "data": {
      "image/png": "[encoded data removed]",
      "text/plain": [
       "<Figure size 1440x4320 with 20 Axes>"
      ]
     },
     "metadata": {
      "needs_background": "light"
     },
     "output_type": "display_data"
    }
   ],
   "source": [
    "variables_to_plot = list(raw_df[numeric_columns])\n",
    "fig = plt.figure(figsize=(20,60))\n",
    "for i, var_name in enumerate(variables_to_plot):\n",
    "    ax = fig.add_subplot(10,3,i+1)\n",
    "    raw_df[var_name].hist(bins=10,ax=ax)\n",
    "    ax.set_title(var_name)\n",
    "fig.tight_layout()"
   ]
  },
  {
   "cell_type": "markdown",
   "metadata": {
    "slideshow": {
     "slide_type": "subslide"
    }
   },
   "source": [
    "Some variables were overwhelmingly either 0 or 1. I decided to drop those columns since they likely won't have much impact."
   ]
  },
  {
   "cell_type": "code",
   "execution_count": 34,
   "metadata": {
    "scrolled": true,
    "slideshow": {
     "slide_type": "fragment"
    }
   },
   "outputs": [],
   "source": [
    "raw_df.drop(['host_has_profile_pic', 'is_location_exact', 'requires_license',\n",
    "                    'is_business_travel_ready','require_guest_profile_picture','require_guest_phone_verification'],\n",
    "                  axis=1, inplace=True)"
   ]
  },
  {
   "cell_type": "markdown",
   "metadata": {
    "slideshow": {
     "slide_type": "subslide"
    }
   },
   "source": [
    "Next, I filled in missing values using either the median or mean. "
   ]
  },
  {
   "cell_type": "code",
   "execution_count": 35,
   "metadata": {
    "scrolled": true,
    "slideshow": {
     "slide_type": "fragment"
    }
   },
   "outputs": [],
   "source": [
    "for col in ['bathrooms', 'bedrooms', 'beds']:\n",
    "    raw_df[col].fillna(raw_df[col].median(), inplace=True)"
   ]
  },
  {
   "cell_type": "code",
   "execution_count": 36,
   "metadata": {
    "scrolled": true,
    "slideshow": {
     "slide_type": "fragment"
    }
   },
   "outputs": [],
   "source": [
    "raw_df['host_response_rate'].fillna(raw_df['host_response_rate'].mean(), inplace=True)\n",
    "raw_df['review_scores_rating'].fillna(raw_df['review_scores_rating'].mean(), inplace=True)\n",
    "raw_df['reviews_per_month'].fillna(raw_df['reviews_per_month'].mean(), inplace=True)\n",
    "raw_df['host_listings_count'].fillna(raw_df['host_listings_count'].mean(), inplace=True)"
   ]
  },
  {
   "cell_type": "code",
   "execution_count": 37,
   "metadata": {
    "scrolled": false,
    "slideshow": {
     "slide_type": "subslide"
    }
   },
   "outputs": [
    {
     "name": "stdout",
     "output_type": "stream",
     "text": [
      "Index(['host_response_rate', 'host_is_superhost', 'host_listings_count', 'host_identity_verified', 'accommodates', 'bathrooms', 'bedrooms', 'beds', 'price', 'security_deposit', 'cleaning_fee', 'guests_included', 'extra_people', 'minimum_nights', 'maximum_nights', 'number_of_reviews', 'review_scores_rating', 'instant_bookable', 'reviews_per_month', 'amenities_number'], dtype='object')\n",
      "The number of numerical columns is 20\n"
     ]
    }
   ],
   "source": [
    "numeric_columns = raw_df.select_dtypes(['int64', 'float64']).columns\n",
    "print(numeric_columns)\n",
    "print(\"The number of numerical columns is {}\".format(len(numeric_columns)))"
   ]
  },
  {
   "cell_type": "code",
   "execution_count": 38,
   "metadata": {
    "scrolled": true,
    "slideshow": {
     "slide_type": "subslide"
    }
   },
   "outputs": [
    {
     "data": {
      "text/plain": [
       "price                     1.590433\n",
       "amenities_number          0.000000\n",
       "reviews_per_month         0.000000\n",
       "host_is_superhost         0.000000\n",
       "host_listings_count       0.000000\n",
       "host_identity_verified    0.000000\n",
       "accommodates              0.000000\n",
       "bathrooms                 0.000000\n",
       "bedrooms                  0.000000\n",
       "beds                      0.000000\n",
       "security_deposit          0.000000\n",
       "cleaning_fee              0.000000\n",
       "guests_included           0.000000\n",
       "extra_people              0.000000\n",
       "minimum_nights            0.000000\n",
       "maximum_nights            0.000000\n",
       "number_of_reviews         0.000000\n",
       "review_scores_rating      0.000000\n",
       "instant_bookable          0.000000\n",
       "host_response_rate        0.000000\n",
       "dtype: float64"
      ]
     },
     "execution_count": 38,
     "metadata": {},
     "output_type": "execute_result"
    }
   ],
   "source": [
    "(raw_df[numeric_columns].isnull().sum()*100/raw_df[numeric_columns].isnull().count()).sort_values(ascending=False)"
   ]
  },
  {
   "cell_type": "markdown",
   "metadata": {
    "slideshow": {
     "slide_type": "subslide"
    }
   },
   "source": [
    "There are a small number of rows that do not have a value for price. I decided to drop just those rows since price is the target variable. "
   ]
  },
  {
   "cell_type": "code",
   "execution_count": 39,
   "metadata": {
    "scrolled": true,
    "slideshow": {
     "slide_type": "fragment"
    }
   },
   "outputs": [],
   "source": [
    "raw_df.dropna(subset=['price'], inplace=True)"
   ]
  },
  {
   "cell_type": "markdown",
   "metadata": {
    "slideshow": {
     "slide_type": "slide"
    }
   },
   "source": [
    "## Defining Variables for Model Selection"
   ]
  },
  {
   "cell_type": "code",
   "execution_count": 40,
   "metadata": {
    "scrolled": false,
    "slideshow": {
     "slide_type": "subslide"
    }
   },
   "outputs": [],
   "source": [
    "new_df = raw_df.drop(['price'], axis=1)"
   ]
  },
  {
   "cell_type": "code",
   "execution_count": 41,
   "metadata": {
    "scrolled": true,
    "slideshow": {
     "slide_type": "fragment"
    }
   },
   "outputs": [
    {
     "data": {
      "text/html": [
       "<div>\n",
       "<style scoped>\n",
       "    .dataframe tbody tr th:only-of-type {\n",
       "        vertical-align: middle;\n",
       "    }\n",
       "\n",
       "    .dataframe tbody tr th {\n",
       "        vertical-align: top;\n",
       "    }\n",
       "\n",
       "    .dataframe thead th {\n",
       "        text-align: right;\n",
       "    }\n",
       "</style>\n",
       "<table border=\"1\" class=\"dataframe\">\n",
       "  <thead>\n",
       "    <tr style=\"text-align: right;\">\n",
       "      <th></th>\n",
       "      <th>host_response_rate</th>\n",
       "      <th>host_is_superhost</th>\n",
       "      <th>host_listings_count</th>\n",
       "      <th>host_identity_verified</th>\n",
       "      <th>accommodates</th>\n",
       "      <th>bathrooms</th>\n",
       "      <th>bedrooms</th>\n",
       "      <th>beds</th>\n",
       "      <th>security_deposit</th>\n",
       "      <th>cleaning_fee</th>\n",
       "      <th>guests_included</th>\n",
       "      <th>extra_people</th>\n",
       "      <th>minimum_nights</th>\n",
       "      <th>maximum_nights</th>\n",
       "      <th>number_of_reviews</th>\n",
       "      <th>review_scores_rating</th>\n",
       "      <th>instant_bookable</th>\n",
       "      <th>reviews_per_month</th>\n",
       "      <th>amenities_number</th>\n",
       "      <th>host_response_time_unknown</th>\n",
       "      <th>host_response_time_within a day</th>\n",
       "      <th>host_response_time_within a few hours</th>\n",
       "      <th>host_response_time_within an hour</th>\n",
       "      <th>neighbourhood_cleansed_Bernal Heights</th>\n",
       "      <th>neighbourhood_cleansed_Castro/Upper Market</th>\n",
       "      <th>...</th>\n",
       "      <th>neighbourhood_cleansed_Outer Richmond</th>\n",
       "      <th>neighbourhood_cleansed_Outer Sunset</th>\n",
       "      <th>neighbourhood_cleansed_Pacific Heights</th>\n",
       "      <th>neighbourhood_cleansed_Parkside</th>\n",
       "      <th>neighbourhood_cleansed_Potrero Hill</th>\n",
       "      <th>neighbourhood_cleansed_Presidio</th>\n",
       "      <th>neighbourhood_cleansed_Presidio Heights</th>\n",
       "      <th>neighbourhood_cleansed_Russian Hill</th>\n",
       "      <th>neighbourhood_cleansed_Seacliff</th>\n",
       "      <th>neighbourhood_cleansed_South of Market</th>\n",
       "      <th>neighbourhood_cleansed_Treasure Island/YBI</th>\n",
       "      <th>neighbourhood_cleansed_Twin Peaks</th>\n",
       "      <th>neighbourhood_cleansed_Visitacion Valley</th>\n",
       "      <th>neighbourhood_cleansed_West of Twin Peaks</th>\n",
       "      <th>neighbourhood_cleansed_Western Addition</th>\n",
       "      <th>property_type_House</th>\n",
       "      <th>property_type_Other</th>\n",
       "      <th>room_type_Hotel room</th>\n",
       "      <th>room_type_Private room</th>\n",
       "      <th>room_type_Shared room</th>\n",
       "      <th>cancellation_policy_moderate</th>\n",
       "      <th>cancellation_policy_strict</th>\n",
       "      <th>cancellation_policy_strict_14_with_grace_period</th>\n",
       "      <th>cancellation_policy_super_strict_30</th>\n",
       "      <th>cancellation_policy_super_strict_60</th>\n",
       "    </tr>\n",
       "  </thead>\n",
       "  <tbody>\n",
       "    <tr>\n",
       "      <td>0</td>\n",
       "      <td>1.000000</td>\n",
       "      <td>1.0</td>\n",
       "      <td>0.000576</td>\n",
       "      <td>1.0</td>\n",
       "      <td>0.142857</td>\n",
       "      <td>0.071429</td>\n",
       "      <td>0.071429</td>\n",
       "      <td>0.142857</td>\n",
       "      <td>0.1001</td>\n",
       "      <td>0.145349</td>\n",
       "      <td>0.090909</td>\n",
       "      <td>0.083333</td>\n",
       "      <td>0.000000e+00</td>\n",
       "      <td>2.900000e-07</td>\n",
       "      <td>0.286658</td>\n",
       "      <td>0.962500</td>\n",
       "      <td>0.0</td>\n",
       "      <td>0.081681</td>\n",
       "      <td>0.3875</td>\n",
       "      <td>0.0</td>\n",
       "      <td>1.0</td>\n",
       "      <td>0.0</td>\n",
       "      <td>0.0</td>\n",
       "      <td>0.0</td>\n",
       "      <td>0.0</td>\n",
       "      <td>...</td>\n",
       "      <td>0.0</td>\n",
       "      <td>0.0</td>\n",
       "      <td>0.0</td>\n",
       "      <td>0.0</td>\n",
       "      <td>0.0</td>\n",
       "      <td>0.0</td>\n",
       "      <td>0.0</td>\n",
       "      <td>0.0</td>\n",
       "      <td>0.0</td>\n",
       "      <td>0.0</td>\n",
       "      <td>0.0</td>\n",
       "      <td>0.0</td>\n",
       "      <td>0.0</td>\n",
       "      <td>0.0</td>\n",
       "      <td>1.0</td>\n",
       "      <td>0.0</td>\n",
       "      <td>0.0</td>\n",
       "      <td>0.0</td>\n",
       "      <td>0.0</td>\n",
       "      <td>0.0</td>\n",
       "      <td>1.0</td>\n",
       "      <td>0.0</td>\n",
       "      <td>0.0</td>\n",
       "      <td>0.0</td>\n",
       "      <td>0.0</td>\n",
       "    </tr>\n",
       "    <tr>\n",
       "      <td>1</td>\n",
       "      <td>1.000000</td>\n",
       "      <td>1.0</td>\n",
       "      <td>0.001153</td>\n",
       "      <td>1.0</td>\n",
       "      <td>0.071429</td>\n",
       "      <td>0.071429</td>\n",
       "      <td>0.071429</td>\n",
       "      <td>0.071429</td>\n",
       "      <td>0.0000</td>\n",
       "      <td>0.014535</td>\n",
       "      <td>0.090909</td>\n",
       "      <td>0.066667</td>\n",
       "      <td>0.000000e+00</td>\n",
       "      <td>4.000000e-08</td>\n",
       "      <td>0.211361</td>\n",
       "      <td>0.925000</td>\n",
       "      <td>0.0</td>\n",
       "      <td>0.059962</td>\n",
       "      <td>0.3625</td>\n",
       "      <td>0.0</td>\n",
       "      <td>0.0</td>\n",
       "      <td>0.0</td>\n",
       "      <td>1.0</td>\n",
       "      <td>0.0</td>\n",
       "      <td>0.0</td>\n",
       "      <td>...</td>\n",
       "      <td>0.0</td>\n",
       "      <td>0.0</td>\n",
       "      <td>0.0</td>\n",
       "      <td>0.0</td>\n",
       "      <td>0.0</td>\n",
       "      <td>0.0</td>\n",
       "      <td>0.0</td>\n",
       "      <td>0.0</td>\n",
       "      <td>0.0</td>\n",
       "      <td>0.0</td>\n",
       "      <td>0.0</td>\n",
       "      <td>0.0</td>\n",
       "      <td>0.0</td>\n",
       "      <td>0.0</td>\n",
       "      <td>0.0</td>\n",
       "      <td>1.0</td>\n",
       "      <td>0.0</td>\n",
       "      <td>0.0</td>\n",
       "      <td>1.0</td>\n",
       "      <td>0.0</td>\n",
       "      <td>0.0</td>\n",
       "      <td>0.0</td>\n",
       "      <td>1.0</td>\n",
       "      <td>0.0</td>\n",
       "      <td>0.0</td>\n",
       "    </tr>\n",
       "    <tr>\n",
       "      <td>2</td>\n",
       "      <td>0.800000</td>\n",
       "      <td>0.0</td>\n",
       "      <td>0.001153</td>\n",
       "      <td>1.0</td>\n",
       "      <td>0.285714</td>\n",
       "      <td>0.071429</td>\n",
       "      <td>0.142857</td>\n",
       "      <td>0.214286</td>\n",
       "      <td>0.0000</td>\n",
       "      <td>0.145349</td>\n",
       "      <td>0.090909</td>\n",
       "      <td>0.000000</td>\n",
       "      <td>2.900000e-07</td>\n",
       "      <td>5.900000e-07</td>\n",
       "      <td>0.146631</td>\n",
       "      <td>0.975000</td>\n",
       "      <td>0.0</td>\n",
       "      <td>0.040604</td>\n",
       "      <td>0.2000</td>\n",
       "      <td>0.0</td>\n",
       "      <td>1.0</td>\n",
       "      <td>0.0</td>\n",
       "      <td>0.0</td>\n",
       "      <td>1.0</td>\n",
       "      <td>0.0</td>\n",
       "      <td>...</td>\n",
       "      <td>0.0</td>\n",
       "      <td>0.0</td>\n",
       "      <td>0.0</td>\n",
       "      <td>0.0</td>\n",
       "      <td>0.0</td>\n",
       "      <td>0.0</td>\n",
       "      <td>0.0</td>\n",
       "      <td>0.0</td>\n",
       "      <td>0.0</td>\n",
       "      <td>0.0</td>\n",
       "      <td>0.0</td>\n",
       "      <td>0.0</td>\n",
       "      <td>0.0</td>\n",
       "      <td>0.0</td>\n",
       "      <td>0.0</td>\n",
       "      <td>0.0</td>\n",
       "      <td>0.0</td>\n",
       "      <td>0.0</td>\n",
       "      <td>0.0</td>\n",
       "      <td>0.0</td>\n",
       "      <td>0.0</td>\n",
       "      <td>0.0</td>\n",
       "      <td>1.0</td>\n",
       "      <td>0.0</td>\n",
       "      <td>0.0</td>\n",
       "    </tr>\n",
       "    <tr>\n",
       "      <td>3</td>\n",
       "      <td>0.860000</td>\n",
       "      <td>1.0</td>\n",
       "      <td>0.005764</td>\n",
       "      <td>1.0</td>\n",
       "      <td>0.071429</td>\n",
       "      <td>0.285714</td>\n",
       "      <td>0.071429</td>\n",
       "      <td>0.071429</td>\n",
       "      <td>0.2002</td>\n",
       "      <td>0.072674</td>\n",
       "      <td>0.000000</td>\n",
       "      <td>0.040000</td>\n",
       "      <td>3.100000e-07</td>\n",
       "      <td>5.900000e-07</td>\n",
       "      <td>0.023778</td>\n",
       "      <td>0.825000</td>\n",
       "      <td>0.0</td>\n",
       "      <td>0.006610</td>\n",
       "      <td>0.2125</td>\n",
       "      <td>0.0</td>\n",
       "      <td>0.0</td>\n",
       "      <td>0.0</td>\n",
       "      <td>1.0</td>\n",
       "      <td>0.0</td>\n",
       "      <td>0.0</td>\n",
       "      <td>...</td>\n",
       "      <td>0.0</td>\n",
       "      <td>0.0</td>\n",
       "      <td>0.0</td>\n",
       "      <td>0.0</td>\n",
       "      <td>0.0</td>\n",
       "      <td>0.0</td>\n",
       "      <td>0.0</td>\n",
       "      <td>0.0</td>\n",
       "      <td>0.0</td>\n",
       "      <td>0.0</td>\n",
       "      <td>0.0</td>\n",
       "      <td>0.0</td>\n",
       "      <td>0.0</td>\n",
       "      <td>0.0</td>\n",
       "      <td>0.0</td>\n",
       "      <td>0.0</td>\n",
       "      <td>0.0</td>\n",
       "      <td>0.0</td>\n",
       "      <td>1.0</td>\n",
       "      <td>0.0</td>\n",
       "      <td>0.0</td>\n",
       "      <td>0.0</td>\n",
       "      <td>1.0</td>\n",
       "      <td>0.0</td>\n",
       "      <td>0.0</td>\n",
       "    </tr>\n",
       "    <tr>\n",
       "      <td>4</td>\n",
       "      <td>0.860000</td>\n",
       "      <td>1.0</td>\n",
       "      <td>0.005764</td>\n",
       "      <td>1.0</td>\n",
       "      <td>0.071429</td>\n",
       "      <td>0.285714</td>\n",
       "      <td>0.071429</td>\n",
       "      <td>0.071429</td>\n",
       "      <td>0.2002</td>\n",
       "      <td>0.072674</td>\n",
       "      <td>0.000000</td>\n",
       "      <td>0.040000</td>\n",
       "      <td>3.100000e-07</td>\n",
       "      <td>8.900000e-07</td>\n",
       "      <td>0.010568</td>\n",
       "      <td>0.912500</td>\n",
       "      <td>0.0</td>\n",
       "      <td>0.005666</td>\n",
       "      <td>0.1875</td>\n",
       "      <td>0.0</td>\n",
       "      <td>0.0</td>\n",
       "      <td>0.0</td>\n",
       "      <td>1.0</td>\n",
       "      <td>0.0</td>\n",
       "      <td>0.0</td>\n",
       "      <td>...</td>\n",
       "      <td>0.0</td>\n",
       "      <td>0.0</td>\n",
       "      <td>0.0</td>\n",
       "      <td>0.0</td>\n",
       "      <td>0.0</td>\n",
       "      <td>0.0</td>\n",
       "      <td>0.0</td>\n",
       "      <td>0.0</td>\n",
       "      <td>0.0</td>\n",
       "      <td>0.0</td>\n",
       "      <td>0.0</td>\n",
       "      <td>0.0</td>\n",
       "      <td>0.0</td>\n",
       "      <td>0.0</td>\n",
       "      <td>0.0</td>\n",
       "      <td>0.0</td>\n",
       "      <td>0.0</td>\n",
       "      <td>0.0</td>\n",
       "      <td>1.0</td>\n",
       "      <td>0.0</td>\n",
       "      <td>0.0</td>\n",
       "      <td>0.0</td>\n",
       "      <td>1.0</td>\n",
       "      <td>0.0</td>\n",
       "      <td>0.0</td>\n",
       "    </tr>\n",
       "    <tr>\n",
       "      <td>...</td>\n",
       "      <td>...</td>\n",
       "      <td>...</td>\n",
       "      <td>...</td>\n",
       "      <td>...</td>\n",
       "      <td>...</td>\n",
       "      <td>...</td>\n",
       "      <td>...</td>\n",
       "      <td>...</td>\n",
       "      <td>...</td>\n",
       "      <td>...</td>\n",
       "      <td>...</td>\n",
       "      <td>...</td>\n",
       "      <td>...</td>\n",
       "      <td>...</td>\n",
       "      <td>...</td>\n",
       "      <td>...</td>\n",
       "      <td>...</td>\n",
       "      <td>...</td>\n",
       "      <td>...</td>\n",
       "      <td>...</td>\n",
       "      <td>...</td>\n",
       "      <td>...</td>\n",
       "      <td>...</td>\n",
       "      <td>...</td>\n",
       "      <td>...</td>\n",
       "      <td>...</td>\n",
       "      <td>...</td>\n",
       "      <td>...</td>\n",
       "      <td>...</td>\n",
       "      <td>...</td>\n",
       "      <td>...</td>\n",
       "      <td>...</td>\n",
       "      <td>...</td>\n",
       "      <td>...</td>\n",
       "      <td>...</td>\n",
       "      <td>...</td>\n",
       "      <td>...</td>\n",
       "      <td>...</td>\n",
       "      <td>...</td>\n",
       "      <td>...</td>\n",
       "      <td>...</td>\n",
       "      <td>...</td>\n",
       "      <td>...</td>\n",
       "      <td>...</td>\n",
       "      <td>...</td>\n",
       "      <td>...</td>\n",
       "      <td>...</td>\n",
       "      <td>...</td>\n",
       "      <td>...</td>\n",
       "      <td>...</td>\n",
       "      <td>...</td>\n",
       "    </tr>\n",
       "    <tr>\n",
       "      <td>7977</td>\n",
       "      <td>0.965181</td>\n",
       "      <td>0.0</td>\n",
       "      <td>0.000000</td>\n",
       "      <td>0.0</td>\n",
       "      <td>0.285714</td>\n",
       "      <td>0.142857</td>\n",
       "      <td>0.214286</td>\n",
       "      <td>0.285714</td>\n",
       "      <td>0.0000</td>\n",
       "      <td>0.218023</td>\n",
       "      <td>0.000000</td>\n",
       "      <td>0.166667</td>\n",
       "      <td>2.900000e-07</td>\n",
       "      <td>1.124000e-05</td>\n",
       "      <td>0.000000</td>\n",
       "      <td>0.942769</td>\n",
       "      <td>1.0</td>\n",
       "      <td>0.087974</td>\n",
       "      <td>0.3750</td>\n",
       "      <td>1.0</td>\n",
       "      <td>0.0</td>\n",
       "      <td>0.0</td>\n",
       "      <td>0.0</td>\n",
       "      <td>1.0</td>\n",
       "      <td>0.0</td>\n",
       "      <td>...</td>\n",
       "      <td>0.0</td>\n",
       "      <td>0.0</td>\n",
       "      <td>0.0</td>\n",
       "      <td>0.0</td>\n",
       "      <td>0.0</td>\n",
       "      <td>0.0</td>\n",
       "      <td>0.0</td>\n",
       "      <td>0.0</td>\n",
       "      <td>0.0</td>\n",
       "      <td>0.0</td>\n",
       "      <td>0.0</td>\n",
       "      <td>0.0</td>\n",
       "      <td>0.0</td>\n",
       "      <td>0.0</td>\n",
       "      <td>0.0</td>\n",
       "      <td>1.0</td>\n",
       "      <td>0.0</td>\n",
       "      <td>0.0</td>\n",
       "      <td>1.0</td>\n",
       "      <td>0.0</td>\n",
       "      <td>0.0</td>\n",
       "      <td>0.0</td>\n",
       "      <td>1.0</td>\n",
       "      <td>0.0</td>\n",
       "      <td>0.0</td>\n",
       "    </tr>\n",
       "    <tr>\n",
       "      <td>7978</td>\n",
       "      <td>1.000000</td>\n",
       "      <td>0.0</td>\n",
       "      <td>0.005187</td>\n",
       "      <td>0.0</td>\n",
       "      <td>0.214286</td>\n",
       "      <td>0.071429</td>\n",
       "      <td>0.071429</td>\n",
       "      <td>0.142857</td>\n",
       "      <td>0.0000</td>\n",
       "      <td>0.000000</td>\n",
       "      <td>0.000000</td>\n",
       "      <td>0.000000</td>\n",
       "      <td>0.000000e+00</td>\n",
       "      <td>6.000000e-08</td>\n",
       "      <td>0.000000</td>\n",
       "      <td>0.942769</td>\n",
       "      <td>1.0</td>\n",
       "      <td>0.087974</td>\n",
       "      <td>0.1875</td>\n",
       "      <td>0.0</td>\n",
       "      <td>0.0</td>\n",
       "      <td>0.0</td>\n",
       "      <td>1.0</td>\n",
       "      <td>0.0</td>\n",
       "      <td>0.0</td>\n",
       "      <td>...</td>\n",
       "      <td>0.0</td>\n",
       "      <td>0.0</td>\n",
       "      <td>0.0</td>\n",
       "      <td>0.0</td>\n",
       "      <td>0.0</td>\n",
       "      <td>0.0</td>\n",
       "      <td>0.0</td>\n",
       "      <td>0.0</td>\n",
       "      <td>0.0</td>\n",
       "      <td>0.0</td>\n",
       "      <td>0.0</td>\n",
       "      <td>0.0</td>\n",
       "      <td>0.0</td>\n",
       "      <td>0.0</td>\n",
       "      <td>0.0</td>\n",
       "      <td>0.0</td>\n",
       "      <td>0.0</td>\n",
       "      <td>0.0</td>\n",
       "      <td>0.0</td>\n",
       "      <td>0.0</td>\n",
       "      <td>0.0</td>\n",
       "      <td>0.0</td>\n",
       "      <td>0.0</td>\n",
       "      <td>0.0</td>\n",
       "      <td>0.0</td>\n",
       "    </tr>\n",
       "    <tr>\n",
       "      <td>7979</td>\n",
       "      <td>0.780000</td>\n",
       "      <td>0.0</td>\n",
       "      <td>0.003458</td>\n",
       "      <td>1.0</td>\n",
       "      <td>0.000000</td>\n",
       "      <td>0.142857</td>\n",
       "      <td>0.071429</td>\n",
       "      <td>0.000000</td>\n",
       "      <td>0.0000</td>\n",
       "      <td>0.000000</td>\n",
       "      <td>0.000000</td>\n",
       "      <td>0.000000</td>\n",
       "      <td>2.900000e-07</td>\n",
       "      <td>9.200000e-07</td>\n",
       "      <td>0.000000</td>\n",
       "      <td>0.942769</td>\n",
       "      <td>1.0</td>\n",
       "      <td>0.087974</td>\n",
       "      <td>0.1750</td>\n",
       "      <td>0.0</td>\n",
       "      <td>0.0</td>\n",
       "      <td>1.0</td>\n",
       "      <td>0.0</td>\n",
       "      <td>0.0</td>\n",
       "      <td>0.0</td>\n",
       "      <td>...</td>\n",
       "      <td>0.0</td>\n",
       "      <td>0.0</td>\n",
       "      <td>0.0</td>\n",
       "      <td>0.0</td>\n",
       "      <td>0.0</td>\n",
       "      <td>0.0</td>\n",
       "      <td>0.0</td>\n",
       "      <td>0.0</td>\n",
       "      <td>0.0</td>\n",
       "      <td>0.0</td>\n",
       "      <td>0.0</td>\n",
       "      <td>0.0</td>\n",
       "      <td>0.0</td>\n",
       "      <td>0.0</td>\n",
       "      <td>0.0</td>\n",
       "      <td>0.0</td>\n",
       "      <td>1.0</td>\n",
       "      <td>0.0</td>\n",
       "      <td>1.0</td>\n",
       "      <td>0.0</td>\n",
       "      <td>0.0</td>\n",
       "      <td>0.0</td>\n",
       "      <td>0.0</td>\n",
       "      <td>0.0</td>\n",
       "      <td>0.0</td>\n",
       "    </tr>\n",
       "    <tr>\n",
       "      <td>7980</td>\n",
       "      <td>0.980000</td>\n",
       "      <td>0.0</td>\n",
       "      <td>0.518732</td>\n",
       "      <td>0.0</td>\n",
       "      <td>0.071429</td>\n",
       "      <td>0.071429</td>\n",
       "      <td>0.071429</td>\n",
       "      <td>0.071429</td>\n",
       "      <td>0.0000</td>\n",
       "      <td>0.218023</td>\n",
       "      <td>0.000000</td>\n",
       "      <td>0.000000</td>\n",
       "      <td>2.900000e-07</td>\n",
       "      <td>8.900000e-07</td>\n",
       "      <td>0.000000</td>\n",
       "      <td>0.942769</td>\n",
       "      <td>1.0</td>\n",
       "      <td>0.087974</td>\n",
       "      <td>0.3375</td>\n",
       "      <td>0.0</td>\n",
       "      <td>0.0</td>\n",
       "      <td>0.0</td>\n",
       "      <td>1.0</td>\n",
       "      <td>0.0</td>\n",
       "      <td>0.0</td>\n",
       "      <td>...</td>\n",
       "      <td>0.0</td>\n",
       "      <td>0.0</td>\n",
       "      <td>0.0</td>\n",
       "      <td>0.0</td>\n",
       "      <td>0.0</td>\n",
       "      <td>0.0</td>\n",
       "      <td>0.0</td>\n",
       "      <td>0.0</td>\n",
       "      <td>0.0</td>\n",
       "      <td>0.0</td>\n",
       "      <td>0.0</td>\n",
       "      <td>0.0</td>\n",
       "      <td>0.0</td>\n",
       "      <td>0.0</td>\n",
       "      <td>0.0</td>\n",
       "      <td>0.0</td>\n",
       "      <td>0.0</td>\n",
       "      <td>0.0</td>\n",
       "      <td>0.0</td>\n",
       "      <td>0.0</td>\n",
       "      <td>0.0</td>\n",
       "      <td>0.0</td>\n",
       "      <td>0.0</td>\n",
       "      <td>0.0</td>\n",
       "      <td>0.0</td>\n",
       "    </tr>\n",
       "    <tr>\n",
       "      <td>7981</td>\n",
       "      <td>0.990000</td>\n",
       "      <td>1.0</td>\n",
       "      <td>0.002882</td>\n",
       "      <td>0.0</td>\n",
       "      <td>0.285714</td>\n",
       "      <td>0.071429</td>\n",
       "      <td>0.142857</td>\n",
       "      <td>0.142857</td>\n",
       "      <td>0.2002</td>\n",
       "      <td>0.174419</td>\n",
       "      <td>0.000000</td>\n",
       "      <td>0.000000</td>\n",
       "      <td>0.000000e+00</td>\n",
       "      <td>2.900000e-07</td>\n",
       "      <td>0.000000</td>\n",
       "      <td>0.942769</td>\n",
       "      <td>0.0</td>\n",
       "      <td>0.087974</td>\n",
       "      <td>0.3500</td>\n",
       "      <td>0.0</td>\n",
       "      <td>0.0</td>\n",
       "      <td>0.0</td>\n",
       "      <td>1.0</td>\n",
       "      <td>0.0</td>\n",
       "      <td>0.0</td>\n",
       "      <td>...</td>\n",
       "      <td>0.0</td>\n",
       "      <td>0.0</td>\n",
       "      <td>0.0</td>\n",
       "      <td>0.0</td>\n",
       "      <td>0.0</td>\n",
       "      <td>0.0</td>\n",
       "      <td>0.0</td>\n",
       "      <td>0.0</td>\n",
       "      <td>0.0</td>\n",
       "      <td>0.0</td>\n",
       "      <td>0.0</td>\n",
       "      <td>0.0</td>\n",
       "      <td>0.0</td>\n",
       "      <td>0.0</td>\n",
       "      <td>0.0</td>\n",
       "      <td>1.0</td>\n",
       "      <td>0.0</td>\n",
       "      <td>0.0</td>\n",
       "      <td>1.0</td>\n",
       "      <td>0.0</td>\n",
       "      <td>0.0</td>\n",
       "      <td>0.0</td>\n",
       "      <td>0.0</td>\n",
       "      <td>0.0</td>\n",
       "      <td>0.0</td>\n",
       "    </tr>\n",
       "  </tbody>\n",
       "</table>\n",
       "<p>7982 rows × 69 columns</p>\n",
       "</div>"
      ],
      "text/plain": [
       "      host_response_rate  host_is_superhost  host_listings_count  host_identity_verified  accommodates  bathrooms  bedrooms      beds  security_deposit  cleaning_fee  guests_included  extra_people  minimum_nights  maximum_nights  number_of_reviews  review_scores_rating  instant_bookable  reviews_per_month  amenities_number  host_response_time_unknown  host_response_time_within a day  host_response_time_within a few hours  host_response_time_within an hour  \\\n",
       "0               1.000000                1.0             0.000576                     1.0      0.142857   0.071429  0.071429  0.142857            0.1001      0.145349         0.090909      0.083333    0.000000e+00    2.900000e-07           0.286658              0.962500               0.0           0.081681            0.3875                         0.0                              1.0                                    0.0                                0.0   \n",
       "1               1.000000                1.0             0.001153                     1.0      0.071429   0.071429  0.071429  0.071429            0.0000      0.014535         0.090909      0.066667    0.000000e+00    4.000000e-08           0.211361              0.925000               0.0           0.059962            0.3625                         0.0                              0.0                                    0.0                                1.0   \n",
       "2               0.800000                0.0             0.001153                     1.0      0.285714   0.071429  0.142857  0.214286            0.0000      0.145349         0.090909      0.000000    2.900000e-07    5.900000e-07           0.146631              0.975000               0.0           0.040604            0.2000                         0.0                              1.0                                    0.0                                0.0   \n",
       "3               0.860000                1.0             0.005764                     1.0      0.071429   0.285714  0.071429  0.071429            0.2002      0.072674         0.000000      0.040000    3.100000e-07    5.900000e-07           0.023778              0.825000               0.0           0.006610            0.2125                         0.0                              0.0                                    0.0                                1.0   \n",
       "4               0.860000                1.0             0.005764                     1.0      0.071429   0.285714  0.071429  0.071429            0.2002      0.072674         0.000000      0.040000    3.100000e-07    8.900000e-07           0.010568              0.912500               0.0           0.005666            0.1875                         0.0                              0.0                                    0.0                                1.0   \n",
       "...                  ...                ...                  ...                     ...           ...        ...       ...       ...               ...           ...              ...           ...             ...             ...                ...                   ...               ...                ...               ...                         ...                              ...                                    ...                                ...   \n",
       "7977            0.965181                0.0             0.000000                     0.0      0.285714   0.142857  0.214286  0.285714            0.0000      0.218023         0.000000      0.166667    2.900000e-07    1.124000e-05           0.000000              0.942769               1.0           0.087974            0.3750                         1.0                              0.0                                    0.0                                0.0   \n",
       "7978            1.000000                0.0             0.005187                     0.0      0.214286   0.071429  0.071429  0.142857            0.0000      0.000000         0.000000      0.000000    0.000000e+00    6.000000e-08           0.000000              0.942769               1.0           0.087974            0.1875                         0.0                              0.0                                    0.0                                1.0   \n",
       "7979            0.780000                0.0             0.003458                     1.0      0.000000   0.142857  0.071429  0.000000            0.0000      0.000000         0.000000      0.000000    2.900000e-07    9.200000e-07           0.000000              0.942769               1.0           0.087974            0.1750                         0.0                              0.0                                    1.0                                0.0   \n",
       "7980            0.980000                0.0             0.518732                     0.0      0.071429   0.071429  0.071429  0.071429            0.0000      0.218023         0.000000      0.000000    2.900000e-07    8.900000e-07           0.000000              0.942769               1.0           0.087974            0.3375                         0.0                              0.0                                    0.0                                1.0   \n",
       "7981            0.990000                1.0             0.002882                     0.0      0.285714   0.071429  0.142857  0.142857            0.2002      0.174419         0.000000      0.000000    0.000000e+00    2.900000e-07           0.000000              0.942769               0.0           0.087974            0.3500                         0.0                              0.0                                    0.0                                1.0   \n",
       "\n",
       "      neighbourhood_cleansed_Bernal Heights  neighbourhood_cleansed_Castro/Upper Market  ...  neighbourhood_cleansed_Outer Richmond  neighbourhood_cleansed_Outer Sunset  neighbourhood_cleansed_Pacific Heights  neighbourhood_cleansed_Parkside  neighbourhood_cleansed_Potrero Hill  neighbourhood_cleansed_Presidio  neighbourhood_cleansed_Presidio Heights  neighbourhood_cleansed_Russian Hill  neighbourhood_cleansed_Seacliff  neighbourhood_cleansed_South of Market  \\\n",
       "0                                       0.0                                         0.0  ...                                    0.0                                  0.0                                     0.0                              0.0                                  0.0                              0.0                                      0.0                                  0.0                              0.0                                     0.0   \n",
       "1                                       0.0                                         0.0  ...                                    0.0                                  0.0                                     0.0                              0.0                                  0.0                              0.0                                      0.0                                  0.0                              0.0                                     0.0   \n",
       "2                                       1.0                                         0.0  ...                                    0.0                                  0.0                                     0.0                              0.0                                  0.0                              0.0                                      0.0                                  0.0                              0.0                                     0.0   \n",
       "3                                       0.0                                         0.0  ...                                    0.0                                  0.0                                     0.0                              0.0                                  0.0                              0.0                                      0.0                                  0.0                              0.0                                     0.0   \n",
       "4                                       0.0                                         0.0  ...                                    0.0                                  0.0                                     0.0                              0.0                                  0.0                              0.0                                      0.0                                  0.0                              0.0                                     0.0   \n",
       "...                                     ...                                         ...  ...                                    ...                                  ...                                     ...                              ...                                  ...                              ...                                      ...                                  ...                              ...                                     ...   \n",
       "7977                                    1.0                                         0.0  ...                                    0.0                                  0.0                                     0.0                              0.0                                  0.0                              0.0                                      0.0                                  0.0                              0.0                                     0.0   \n",
       "7978                                    0.0                                         0.0  ...                                    0.0                                  0.0                                     0.0                              0.0                                  0.0                              0.0                                      0.0                                  0.0                              0.0                                     0.0   \n",
       "7979                                    0.0                                         0.0  ...                                    0.0                                  0.0                                     0.0                              0.0                                  0.0                              0.0                                      0.0                                  0.0                              0.0                                     0.0   \n",
       "7980                                    0.0                                         0.0  ...                                    0.0                                  0.0                                     0.0                              0.0                                  0.0                              0.0                                      0.0                                  0.0                              0.0                                     0.0   \n",
       "7981                                    0.0                                         0.0  ...                                    0.0                                  0.0                                     0.0                              0.0                                  0.0                              0.0                                      0.0                                  0.0                              0.0                                     0.0   \n",
       "\n",
       "      neighbourhood_cleansed_Treasure Island/YBI  neighbourhood_cleansed_Twin Peaks  neighbourhood_cleansed_Visitacion Valley  neighbourhood_cleansed_West of Twin Peaks  neighbourhood_cleansed_Western Addition  property_type_House  property_type_Other  room_type_Hotel room  room_type_Private room  room_type_Shared room  cancellation_policy_moderate  cancellation_policy_strict  cancellation_policy_strict_14_with_grace_period  cancellation_policy_super_strict_30  \\\n",
       "0                                            0.0                                0.0                                       0.0                                        0.0                                      1.0                  0.0                  0.0                   0.0                     0.0                    0.0                           1.0                         0.0                                              0.0                                  0.0   \n",
       "1                                            0.0                                0.0                                       0.0                                        0.0                                      0.0                  1.0                  0.0                   0.0                     1.0                    0.0                           0.0                         0.0                                              1.0                                  0.0   \n",
       "2                                            0.0                                0.0                                       0.0                                        0.0                                      0.0                  0.0                  0.0                   0.0                     0.0                    0.0                           0.0                         0.0                                              1.0                                  0.0   \n",
       "3                                            0.0                                0.0                                       0.0                                        0.0                                      0.0                  0.0                  0.0                   0.0                     1.0                    0.0                           0.0                         0.0                                              1.0                                  0.0   \n",
       "4                                            0.0                                0.0                                       0.0                                        0.0                                      0.0                  0.0                  0.0                   0.0                     1.0                    0.0                           0.0                         0.0                                              1.0                                  0.0   \n",
       "...                                          ...                                ...                                       ...                                        ...                                      ...                  ...                  ...                   ...                     ...                    ...                           ...                         ...                                              ...                                  ...   \n",
       "7977                                         0.0                                0.0                                       0.0                                        0.0                                      0.0                  1.0                  0.0                   0.0                     1.0                    0.0                           0.0                         0.0                                              1.0                                  0.0   \n",
       "7978                                         0.0                                0.0                                       0.0                                        0.0                                      0.0                  0.0                  0.0                   0.0                     0.0                    0.0                           0.0                         0.0                                              0.0                                  0.0   \n",
       "7979                                         0.0                                0.0                                       0.0                                        0.0                                      0.0                  0.0                  1.0                   0.0                     1.0                    0.0                           0.0                         0.0                                              0.0                                  0.0   \n",
       "7980                                         0.0                                0.0                                       0.0                                        0.0                                      0.0                  0.0                  0.0                   0.0                     0.0                    0.0                           0.0                         0.0                                              0.0                                  0.0   \n",
       "7981                                         0.0                                0.0                                       0.0                                        0.0                                      0.0                  1.0                  0.0                   0.0                     1.0                    0.0                           0.0                         0.0                                              0.0                                  0.0   \n",
       "\n",
       "      cancellation_policy_super_strict_60  \n",
       "0                                     0.0  \n",
       "1                                     0.0  \n",
       "2                                     0.0  \n",
       "3                                     0.0  \n",
       "4                                     0.0  \n",
       "...                                   ...  \n",
       "7977                                  0.0  \n",
       "7978                                  0.0  \n",
       "7979                                  0.0  \n",
       "7980                                  0.0  \n",
       "7981                                  0.0  \n",
       "\n",
       "[7982 rows x 69 columns]"
      ]
     },
     "execution_count": 41,
     "metadata": {},
     "output_type": "execute_result"
    }
   ],
   "source": [
    "from sklearn import preprocessing\n",
    "from sklearn.preprocessing import normalize, scale\n",
    "\n",
    "cols = new_df.columns\n",
    "\n",
    "\n",
    "min_max_scaler = preprocessing.MinMaxScaler()\n",
    "np_scaled = min_max_scaler.fit_transform(new_df)\n",
    "df_normalized = pd.DataFrame(np_scaled, columns = cols)\n",
    "df_normalized"
   ]
  },
  {
   "cell_type": "markdown",
   "metadata": {
    "slideshow": {
     "slide_type": "subslide"
    }
   },
   "source": [
    "Here, I separated the target variable, price, and reset the index."
   ]
  },
  {
   "cell_type": "code",
   "execution_count": 42,
   "metadata": {
    "scrolled": true,
    "slideshow": {
     "slide_type": "fragment"
    }
   },
   "outputs": [],
   "source": [
    "price_df = pd.DataFrame(raw_df.price)\n",
    "\n",
    "price_df = price_df.reset_index(drop=True)\n",
    "\n",
    "raw_df['price'] = raw_df['price'].reset_index(drop=True)\n",
    "\n",
    "df_normalized = df_normalized.reset_index(drop=True)"
   ]
  },
  {
   "cell_type": "markdown",
   "metadata": {
    "slideshow": {
     "slide_type": "slide"
    }
   },
   "source": [
    "# Model Selection Phase"
   ]
  },
  {
   "cell_type": "code",
   "execution_count": 43,
   "metadata": {
    "scrolled": true,
    "slideshow": {
     "slide_type": "subslide"
    }
   },
   "outputs": [
    {
     "data": {
      "text/html": [
       "<table class=\"simpletable\">\n",
       "<caption>OLS Regression Results</caption>\n",
       "<tr>\n",
       "  <th>Dep. Variable:</th>          <td>price</td>      <th>  R-squared:         </th> <td>   0.489</td> \n",
       "</tr>\n",
       "<tr>\n",
       "  <th>Model:</th>                   <td>OLS</td>       <th>  Adj. R-squared:    </th> <td>   0.484</td> \n",
       "</tr>\n",
       "<tr>\n",
       "  <th>Method:</th>             <td>Least Squares</td>  <th>  F-statistic:       </th> <td>   87.69</td> \n",
       "</tr>\n",
       "<tr>\n",
       "  <th>Date:</th>             <td>Sat, 22 Feb 2020</td> <th>  Prob (F-statistic):</th>  <td>  0.00</td>  \n",
       "</tr>\n",
       "<tr>\n",
       "  <th>Time:</th>                 <td>13:01:20</td>     <th>  Log-Likelihood:    </th> <td> -38763.</td> \n",
       "</tr>\n",
       "<tr>\n",
       "  <th>No. Observations:</th>      <td>  6385</td>      <th>  AIC:               </th> <td>7.767e+04</td>\n",
       "</tr>\n",
       "<tr>\n",
       "  <th>Df Residuals:</th>          <td>  6315</td>      <th>  BIC:               </th> <td>7.814e+04</td>\n",
       "</tr>\n",
       "<tr>\n",
       "  <th>Df Model:</th>              <td>    69</td>      <th>                     </th>     <td> </td>    \n",
       "</tr>\n",
       "<tr>\n",
       "  <th>Covariance Type:</th>      <td>nonrobust</td>    <th>                     </th>     <td> </td>    \n",
       "</tr>\n",
       "</table>\n",
       "<table class=\"simpletable\">\n",
       "<tr>\n",
       "                         <td></td>                            <th>coef</th>     <th>std err</th>      <th>t</th>      <th>P>|t|</th>  <th>[0.025</th>    <th>0.975]</th>  \n",
       "</tr>\n",
       "<tr>\n",
       "  <th>const</th>                                           <td>  -92.8589</td> <td>   22.969</td> <td>   -4.043</td> <td> 0.000</td> <td> -137.885</td> <td>  -47.833</td>\n",
       "</tr>\n",
       "<tr>\n",
       "  <th>host_response_rate</th>                              <td>  -24.0035</td> <td>   22.158</td> <td>   -1.083</td> <td> 0.279</td> <td>  -67.441</td> <td>   19.434</td>\n",
       "</tr>\n",
       "<tr>\n",
       "  <th>host_is_superhost</th>                               <td>   -3.4692</td> <td>    3.223</td> <td>   -1.076</td> <td> 0.282</td> <td>   -9.788</td> <td>    2.850</td>\n",
       "</tr>\n",
       "<tr>\n",
       "  <th>host_listings_count</th>                             <td>  -42.9992</td> <td>   10.348</td> <td>   -4.155</td> <td> 0.000</td> <td>  -63.284</td> <td>  -22.714</td>\n",
       "</tr>\n",
       "<tr>\n",
       "  <th>host_identity_verified</th>                          <td>   12.2792</td> <td>    2.962</td> <td>    4.145</td> <td> 0.000</td> <td>    6.472</td> <td>   18.087</td>\n",
       "</tr>\n",
       "<tr>\n",
       "  <th>accommodates</th>                                    <td>  336.1900</td> <td>   21.490</td> <td>   15.644</td> <td> 0.000</td> <td>  294.061</td> <td>  378.319</td>\n",
       "</tr>\n",
       "<tr>\n",
       "  <th>bathrooms</th>                                       <td>   40.4083</td> <td>   24.282</td> <td>    1.664</td> <td> 0.096</td> <td>   -7.193</td> <td>   88.010</td>\n",
       "</tr>\n",
       "<tr>\n",
       "  <th>bedrooms</th>                                        <td>  640.3416</td> <td>   37.133</td> <td>   17.245</td> <td> 0.000</td> <td>  567.548</td> <td>  713.135</td>\n",
       "</tr>\n",
       "<tr>\n",
       "  <th>beds</th>                                            <td>  -94.9398</td> <td>   32.091</td> <td>   -2.958</td> <td> 0.003</td> <td> -157.850</td> <td>  -32.030</td>\n",
       "</tr>\n",
       "<tr>\n",
       "  <th>security_deposit</th>                                <td>  -24.8637</td> <td>    6.935</td> <td>   -3.585</td> <td> 0.000</td> <td>  -38.459</td> <td>  -11.269</td>\n",
       "</tr>\n",
       "<tr>\n",
       "  <th>cleaning_fee</th>                                    <td>   10.7892</td> <td>   15.218</td> <td>    0.709</td> <td> 0.478</td> <td>  -19.043</td> <td>   40.622</td>\n",
       "</tr>\n",
       "<tr>\n",
       "  <th>guests_included</th>                                 <td>   69.1453</td> <td>   15.412</td> <td>    4.486</td> <td> 0.000</td> <td>   38.932</td> <td>   99.358</td>\n",
       "</tr>\n",
       "<tr>\n",
       "  <th>extra_people</th>                                    <td>   51.9389</td> <td>   14.739</td> <td>    3.524</td> <td> 0.000</td> <td>   23.045</td> <td>   80.833</td>\n",
       "</tr>\n",
       "<tr>\n",
       "  <th>minimum_nights</th>                                  <td> 1.999e+05</td> <td> 9.77e+04</td> <td>    2.046</td> <td> 0.041</td> <td> 8339.737</td> <td> 3.91e+05</td>\n",
       "</tr>\n",
       "<tr>\n",
       "  <th>maximum_nights</th>                                  <td>    -2e+05</td> <td> 9.77e+04</td> <td>   -2.047</td> <td> 0.041</td> <td>-3.92e+05</td> <td>-8422.487</td>\n",
       "</tr>\n",
       "<tr>\n",
       "  <th>number_of_reviews</th>                               <td> -136.7009</td> <td>   17.385</td> <td>   -7.863</td> <td> 0.000</td> <td> -170.781</td> <td> -102.621</td>\n",
       "</tr>\n",
       "<tr>\n",
       "  <th>review_scores_rating</th>                            <td>  107.8232</td> <td>   16.592</td> <td>    6.499</td> <td> 0.000</td> <td>   75.297</td> <td>  140.349</td>\n",
       "</tr>\n",
       "<tr>\n",
       "  <th>instant_bookable</th>                                <td>   -7.7043</td> <td>    3.002</td> <td>   -2.566</td> <td> 0.010</td> <td>  -13.590</td> <td>   -1.819</td>\n",
       "</tr>\n",
       "<tr>\n",
       "  <th>reviews_per_month</th>                               <td>   14.4987</td> <td>   20.798</td> <td>    0.697</td> <td> 0.486</td> <td>  -26.273</td> <td>   55.270</td>\n",
       "</tr>\n",
       "<tr>\n",
       "  <th>amenities_number</th>                                <td>   92.4700</td> <td>   11.047</td> <td>    8.371</td> <td> 0.000</td> <td>   70.814</td> <td>  114.126</td>\n",
       "</tr>\n",
       "<tr>\n",
       "  <th>host_response_time_unknown</th>                      <td>   18.2941</td> <td>   23.481</td> <td>    0.779</td> <td> 0.436</td> <td>  -27.737</td> <td>   64.325</td>\n",
       "</tr>\n",
       "<tr>\n",
       "  <th>host_response_time_within a day</th>                 <td>    0.8322</td> <td>   21.947</td> <td>    0.038</td> <td> 0.970</td> <td>  -42.191</td> <td>   43.856</td>\n",
       "</tr>\n",
       "<tr>\n",
       "  <th>host_response_time_within a few hours</th>           <td>    3.1075</td> <td>   23.384</td> <td>    0.133</td> <td> 0.894</td> <td>  -42.733</td> <td>   48.948</td>\n",
       "</tr>\n",
       "<tr>\n",
       "  <th>host_response_time_within an hour</th>               <td>    7.9474</td> <td>   23.649</td> <td>    0.336</td> <td> 0.737</td> <td>  -38.413</td> <td>   54.308</td>\n",
       "</tr>\n",
       "<tr>\n",
       "  <th>neighbourhood_cleansed_Bernal Heights</th>           <td>   30.8131</td> <td>   10.268</td> <td>    3.001</td> <td> 0.003</td> <td>   10.685</td> <td>   50.941</td>\n",
       "</tr>\n",
       "<tr>\n",
       "  <th>neighbourhood_cleansed_Castro/Upper Market</th>      <td>   91.7976</td> <td>   10.191</td> <td>    9.008</td> <td> 0.000</td> <td>   71.820</td> <td>  111.775</td>\n",
       "</tr>\n",
       "<tr>\n",
       "  <th>neighbourhood_cleansed_Chinatown</th>                <td>   91.3814</td> <td>   14.140</td> <td>    6.463</td> <td> 0.000</td> <td>   63.662</td> <td>  119.101</td>\n",
       "</tr>\n",
       "<tr>\n",
       "  <th>neighbourhood_cleansed_Crocker Amazon</th>           <td>  -10.0181</td> <td>   19.037</td> <td>   -0.526</td> <td> 0.599</td> <td>  -47.338</td> <td>   27.302</td>\n",
       "</tr>\n",
       "<tr>\n",
       "  <th>neighbourhood_cleansed_Diamond Heights</th>          <td>   59.5927</td> <td>   28.534</td> <td>    2.088</td> <td> 0.037</td> <td>    3.656</td> <td>  115.530</td>\n",
       "</tr>\n",
       "<tr>\n",
       "  <th>neighbourhood_cleansed_Downtown/Civic Center</th>    <td>  102.8589</td> <td>    9.948</td> <td>   10.340</td> <td> 0.000</td> <td>   83.358</td> <td>  122.360</td>\n",
       "</tr>\n",
       "<tr>\n",
       "  <th>neighbourhood_cleansed_Excelsior</th>                <td>   -6.3435</td> <td>   11.855</td> <td>   -0.535</td> <td> 0.593</td> <td>  -29.584</td> <td>   16.897</td>\n",
       "</tr>\n",
       "<tr>\n",
       "  <th>neighbourhood_cleansed_Financial District</th>       <td>  119.2910</td> <td>   12.421</td> <td>    9.604</td> <td> 0.000</td> <td>   94.941</td> <td>  143.641</td>\n",
       "</tr>\n",
       "<tr>\n",
       "  <th>neighbourhood_cleansed_Glen Park</th>                <td>   55.0611</td> <td>   16.506</td> <td>    3.336</td> <td> 0.001</td> <td>   22.703</td> <td>   87.419</td>\n",
       "</tr>\n",
       "<tr>\n",
       "  <th>neighbourhood_cleansed_Golden Gate Park</th>         <td>   40.8961</td> <td>   75.053</td> <td>    0.545</td> <td> 0.586</td> <td> -106.234</td> <td>  188.026</td>\n",
       "</tr>\n",
       "<tr>\n",
       "  <th>neighbourhood_cleansed_Haight Ashbury</th>           <td>   79.2201</td> <td>   10.446</td> <td>    7.584</td> <td> 0.000</td> <td>   58.743</td> <td>   99.697</td>\n",
       "</tr>\n",
       "<tr>\n",
       "  <th>neighbourhood_cleansed_Inner Richmond</th>           <td>   64.0288</td> <td>   11.558</td> <td>    5.540</td> <td> 0.000</td> <td>   41.372</td> <td>   86.685</td>\n",
       "</tr>\n",
       "<tr>\n",
       "  <th>neighbourhood_cleansed_Inner Sunset</th>             <td>   42.5883</td> <td>   12.280</td> <td>    3.468</td> <td> 0.001</td> <td>   18.515</td> <td>   66.662</td>\n",
       "</tr>\n",
       "<tr>\n",
       "  <th>neighbourhood_cleansed_Lakeshore</th>                <td>   42.0039</td> <td>   16.031</td> <td>    2.620</td> <td> 0.009</td> <td>   10.577</td> <td>   73.431</td>\n",
       "</tr>\n",
       "<tr>\n",
       "  <th>neighbourhood_cleansed_Marina</th>                   <td>  107.3964</td> <td>   12.027</td> <td>    8.929</td> <td> 0.000</td> <td>   83.819</td> <td>  130.974</td>\n",
       "</tr>\n",
       "<tr>\n",
       "  <th>neighbourhood_cleansed_Mission</th>                  <td>   69.4276</td> <td>    9.510</td> <td>    7.301</td> <td> 0.000</td> <td>   50.785</td> <td>   88.070</td>\n",
       "</tr>\n",
       "<tr>\n",
       "  <th>neighbourhood_cleansed_Nob Hill</th>                 <td>   85.9471</td> <td>   10.882</td> <td>    7.898</td> <td> 0.000</td> <td>   64.615</td> <td>  107.280</td>\n",
       "</tr>\n",
       "<tr>\n",
       "  <th>neighbourhood_cleansed_Noe Valley</th>               <td>   78.8882</td> <td>   10.599</td> <td>    7.443</td> <td> 0.000</td> <td>   58.111</td> <td>   99.665</td>\n",
       "</tr>\n",
       "<tr>\n",
       "  <th>neighbourhood_cleansed_North Beach</th>              <td>  104.2269</td> <td>   12.493</td> <td>    8.343</td> <td> 0.000</td> <td>   79.737</td> <td>  128.717</td>\n",
       "</tr>\n",
       "<tr>\n",
       "  <th>neighbourhood_cleansed_Ocean View</th>               <td>    7.8856</td> <td>   13.272</td> <td>    0.594</td> <td> 0.552</td> <td>  -18.131</td> <td>   33.903</td>\n",
       "</tr>\n",
       "<tr>\n",
       "  <th>neighbourhood_cleansed_Outer Mission</th>            <td>   16.8917</td> <td>   11.994</td> <td>    1.408</td> <td> 0.159</td> <td>   -6.621</td> <td>   40.404</td>\n",
       "</tr>\n",
       "<tr>\n",
       "  <th>neighbourhood_cleansed_Outer Richmond</th>           <td>   42.1699</td> <td>   11.977</td> <td>    3.521</td> <td> 0.000</td> <td>   18.690</td> <td>   65.650</td>\n",
       "</tr>\n",
       "<tr>\n",
       "  <th>neighbourhood_cleansed_Outer Sunset</th>             <td>   19.6111</td> <td>   10.808</td> <td>    1.815</td> <td> 0.070</td> <td>   -1.576</td> <td>   40.798</td>\n",
       "</tr>\n",
       "<tr>\n",
       "  <th>neighbourhood_cleansed_Pacific Heights</th>          <td>  134.9979</td> <td>   12.601</td> <td>   10.713</td> <td> 0.000</td> <td>  110.295</td> <td>  159.701</td>\n",
       "</tr>\n",
       "<tr>\n",
       "  <th>neighbourhood_cleansed_Parkside</th>                 <td>   18.9562</td> <td>   13.383</td> <td>    1.416</td> <td> 0.157</td> <td>   -7.279</td> <td>   45.191</td>\n",
       "</tr>\n",
       "<tr>\n",
       "  <th>neighbourhood_cleansed_Potrero Hill</th>             <td>   80.2663</td> <td>   11.303</td> <td>    7.101</td> <td> 0.000</td> <td>   58.108</td> <td>  102.425</td>\n",
       "</tr>\n",
       "<tr>\n",
       "  <th>neighbourhood_cleansed_Presidio</th>                 <td>   65.6088</td> <td>  105.883</td> <td>    0.620</td> <td> 0.536</td> <td> -141.957</td> <td>  273.175</td>\n",
       "</tr>\n",
       "<tr>\n",
       "  <th>neighbourhood_cleansed_Presidio Heights</th>         <td>  136.8197</td> <td>   27.868</td> <td>    4.910</td> <td> 0.000</td> <td>   82.189</td> <td>  191.450</td>\n",
       "</tr>\n",
       "<tr>\n",
       "  <th>neighbourhood_cleansed_Russian Hill</th>             <td>  118.4057</td> <td>   12.593</td> <td>    9.403</td> <td> 0.000</td> <td>   93.720</td> <td>  143.092</td>\n",
       "</tr>\n",
       "<tr>\n",
       "  <th>neighbourhood_cleansed_Seacliff</th>                 <td>   -6.3616</td> <td>   28.538</td> <td>   -0.223</td> <td> 0.824</td> <td>  -62.307</td> <td>   49.584</td>\n",
       "</tr>\n",
       "<tr>\n",
       "  <th>neighbourhood_cleansed_South of Market</th>          <td>  118.0963</td> <td>    9.841</td> <td>   12.001</td> <td> 0.000</td> <td>   98.805</td> <td>  137.388</td>\n",
       "</tr>\n",
       "<tr>\n",
       "  <th>neighbourhood_cleansed_Treasure Island/YBI</th>      <td>  143.2827</td> <td>  106.219</td> <td>    1.349</td> <td> 0.177</td> <td>  -64.943</td> <td>  351.508</td>\n",
       "</tr>\n",
       "<tr>\n",
       "  <th>neighbourhood_cleansed_Twin Peaks</th>               <td>   72.8662</td> <td>   16.704</td> <td>    4.362</td> <td> 0.000</td> <td>   40.121</td> <td>  105.612</td>\n",
       "</tr>\n",
       "<tr>\n",
       "  <th>neighbourhood_cleansed_Visitacion Valley</th>        <td>   16.0783</td> <td>   15.862</td> <td>    1.014</td> <td> 0.311</td> <td>  -15.016</td> <td>   47.173</td>\n",
       "</tr>\n",
       "<tr>\n",
       "  <th>neighbourhood_cleansed_West of Twin Peaks</th>       <td>   16.4455</td> <td>   13.404</td> <td>    1.227</td> <td> 0.220</td> <td>   -9.831</td> <td>   42.722</td>\n",
       "</tr>\n",
       "<tr>\n",
       "  <th>neighbourhood_cleansed_Western Addition</th>         <td>   93.1771</td> <td>    9.707</td> <td>    9.599</td> <td> 0.000</td> <td>   74.148</td> <td>  112.206</td>\n",
       "</tr>\n",
       "<tr>\n",
       "  <th>property_type_House</th>                             <td>   22.6606</td> <td>    3.629</td> <td>    6.244</td> <td> 0.000</td> <td>   15.546</td> <td>   29.775</td>\n",
       "</tr>\n",
       "<tr>\n",
       "  <th>property_type_Other</th>                             <td>   36.3259</td> <td>    4.480</td> <td>    8.108</td> <td> 0.000</td> <td>   27.543</td> <td>   45.109</td>\n",
       "</tr>\n",
       "<tr>\n",
       "  <th>room_type_Hotel room</th>                            <td>  -33.2173</td> <td>    9.261</td> <td>   -3.587</td> <td> 0.000</td> <td>  -51.372</td> <td>  -15.062</td>\n",
       "</tr>\n",
       "<tr>\n",
       "  <th>room_type_Private room</th>                          <td>  -37.6576</td> <td>    3.638</td> <td>  -10.352</td> <td> 0.000</td> <td>  -44.789</td> <td>  -30.527</td>\n",
       "</tr>\n",
       "<tr>\n",
       "  <th>room_type_Shared room</th>                           <td> -114.9229</td> <td>    9.163</td> <td>  -12.542</td> <td> 0.000</td> <td> -132.885</td> <td>  -96.961</td>\n",
       "</tr>\n",
       "<tr>\n",
       "  <th>cancellation_policy_moderate</th>                    <td>    4.8490</td> <td>    4.097</td> <td>    1.184</td> <td> 0.237</td> <td>   -3.182</td> <td>   12.880</td>\n",
       "</tr>\n",
       "<tr>\n",
       "  <th>cancellation_policy_strict</th>                      <td>  -10.4769</td> <td>   14.584</td> <td>   -0.718</td> <td> 0.473</td> <td>  -39.067</td> <td>   18.114</td>\n",
       "</tr>\n",
       "<tr>\n",
       "  <th>cancellation_policy_strict_14_with_grace_period</th> <td>    0.9192</td> <td>    3.762</td> <td>    0.244</td> <td> 0.807</td> <td>   -6.456</td> <td>    8.295</td>\n",
       "</tr>\n",
       "<tr>\n",
       "  <th>cancellation_policy_super_strict_30</th>             <td>  -30.2538</td> <td>   18.227</td> <td>   -1.660</td> <td> 0.097</td> <td>  -65.984</td> <td>    5.477</td>\n",
       "</tr>\n",
       "<tr>\n",
       "  <th>cancellation_policy_super_strict_60</th>             <td>   95.3242</td> <td>   29.868</td> <td>    3.192</td> <td> 0.001</td> <td>   36.774</td> <td>  153.875</td>\n",
       "</tr>\n",
       "</table>\n",
       "<table class=\"simpletable\">\n",
       "<tr>\n",
       "  <th>Omnibus:</th>       <td>3464.293</td> <th>  Durbin-Watson:     </th> <td>   2.017</td> \n",
       "</tr>\n",
       "<tr>\n",
       "  <th>Prob(Omnibus):</th>  <td> 0.000</td>  <th>  Jarque-Bera (JB):  </th> <td>48911.673</td>\n",
       "</tr>\n",
       "<tr>\n",
       "  <th>Skew:</th>           <td> 2.285</td>  <th>  Prob(JB):          </th> <td>    0.00</td> \n",
       "</tr>\n",
       "<tr>\n",
       "  <th>Kurtosis:</th>       <td>15.766</td>  <th>  Cond. No.          </th> <td>2.30e+05</td> \n",
       "</tr>\n",
       "</table><br/><br/>Warnings:<br/>[1] Standard Errors assume that the covariance matrix of the errors is correctly specified.<br/>[2] The condition number is large, 2.3e+05. This might indicate that there are<br/>strong multicollinearity or other numerical problems."
      ],
      "text/plain": [
       "<class 'statsmodels.iolib.summary.Summary'>\n",
       "\"\"\"\n",
       "                            OLS Regression Results                            \n",
       "==============================================================================\n",
       "Dep. Variable:                  price   R-squared:                       0.489\n",
       "Model:                            OLS   Adj. R-squared:                  0.484\n",
       "Method:                 Least Squares   F-statistic:                     87.69\n",
       "Date:                Sat, 22 Feb 2020   Prob (F-statistic):               0.00\n",
       "Time:                        13:01:20   Log-Likelihood:                -38763.\n",
       "No. Observations:                6385   AIC:                         7.767e+04\n",
       "Df Residuals:                    6315   BIC:                         7.814e+04\n",
       "Df Model:                          69                                         \n",
       "Covariance Type:            nonrobust                                         \n",
       "===================================================================================================================\n",
       "                                                      coef    std err          t      P>|t|      [0.025      0.975]\n",
       "-------------------------------------------------------------------------------------------------------------------\n",
       "const                                             -92.8589     22.969     -4.043      0.000    -137.885     -47.833\n",
       "host_response_rate                                -24.0035     22.158     -1.083      0.279     -67.441      19.434\n",
       "host_is_superhost                                  -3.4692      3.223     -1.076      0.282      -9.788       2.850\n",
       "host_listings_count                               -42.9992     10.348     -4.155      0.000     -63.284     -22.714\n",
       "host_identity_verified                             12.2792      2.962      4.145      0.000       6.472      18.087\n",
       "accommodates                                      336.1900     21.490     15.644      0.000     294.061     378.319\n",
       "bathrooms                                          40.4083     24.282      1.664      0.096      -7.193      88.010\n",
       "bedrooms                                          640.3416     37.133     17.245      0.000     567.548     713.135\n",
       "beds                                              -94.9398     32.091     -2.958      0.003    -157.850     -32.030\n",
       "security_deposit                                  -24.8637      6.935     -3.585      0.000     -38.459     -11.269\n",
       "cleaning_fee                                       10.7892     15.218      0.709      0.478     -19.043      40.622\n",
       "guests_included                                    69.1453     15.412      4.486      0.000      38.932      99.358\n",
       "extra_people                                       51.9389     14.739      3.524      0.000      23.045      80.833\n",
       "minimum_nights                                   1.999e+05   9.77e+04      2.046      0.041    8339.737    3.91e+05\n",
       "maximum_nights                                      -2e+05   9.77e+04     -2.047      0.041   -3.92e+05   -8422.487\n",
       "number_of_reviews                                -136.7009     17.385     -7.863      0.000    -170.781    -102.621\n",
       "review_scores_rating                              107.8232     16.592      6.499      0.000      75.297     140.349\n",
       "instant_bookable                                   -7.7043      3.002     -2.566      0.010     -13.590      -1.819\n",
       "reviews_per_month                                  14.4987     20.798      0.697      0.486     -26.273      55.270\n",
       "amenities_number                                   92.4700     11.047      8.371      0.000      70.814     114.126\n",
       "host_response_time_unknown                         18.2941     23.481      0.779      0.436     -27.737      64.325\n",
       "host_response_time_within a day                     0.8322     21.947      0.038      0.970     -42.191      43.856\n",
       "host_response_time_within a few hours               3.1075     23.384      0.133      0.894     -42.733      48.948\n",
       "host_response_time_within an hour                   7.9474     23.649      0.336      0.737     -38.413      54.308\n",
       "neighbourhood_cleansed_Bernal Heights              30.8131     10.268      3.001      0.003      10.685      50.941\n",
       "neighbourhood_cleansed_Castro/Upper Market         91.7976     10.191      9.008      0.000      71.820     111.775\n",
       "neighbourhood_cleansed_Chinatown                   91.3814     14.140      6.463      0.000      63.662     119.101\n",
       "neighbourhood_cleansed_Crocker Amazon             -10.0181     19.037     -0.526      0.599     -47.338      27.302\n",
       "neighbourhood_cleansed_Diamond Heights             59.5927     28.534      2.088      0.037       3.656     115.530\n",
       "neighbourhood_cleansed_Downtown/Civic Center      102.8589      9.948     10.340      0.000      83.358     122.360\n",
       "neighbourhood_cleansed_Excelsior                   -6.3435     11.855     -0.535      0.593     -29.584      16.897\n",
       "neighbourhood_cleansed_Financial District         119.2910     12.421      9.604      0.000      94.941     143.641\n",
       "neighbourhood_cleansed_Glen Park                   55.0611     16.506      3.336      0.001      22.703      87.419\n",
       "neighbourhood_cleansed_Golden Gate Park            40.8961     75.053      0.545      0.586    -106.234     188.026\n",
       "neighbourhood_cleansed_Haight Ashbury              79.2201     10.446      7.584      0.000      58.743      99.697\n",
       "neighbourhood_cleansed_Inner Richmond              64.0288     11.558      5.540      0.000      41.372      86.685\n",
       "neighbourhood_cleansed_Inner Sunset                42.5883     12.280      3.468      0.001      18.515      66.662\n",
       "neighbourhood_cleansed_Lakeshore                   42.0039     16.031      2.620      0.009      10.577      73.431\n",
       "neighbourhood_cleansed_Marina                     107.3964     12.027      8.929      0.000      83.819     130.974\n",
       "neighbourhood_cleansed_Mission                     69.4276      9.510      7.301      0.000      50.785      88.070\n",
       "neighbourhood_cleansed_Nob Hill                    85.9471     10.882      7.898      0.000      64.615     107.280\n",
       "neighbourhood_cleansed_Noe Valley                  78.8882     10.599      7.443      0.000      58.111      99.665\n",
       "neighbourhood_cleansed_North Beach                104.2269     12.493      8.343      0.000      79.737     128.717\n",
       "neighbourhood_cleansed_Ocean View                   7.8856     13.272      0.594      0.552     -18.131      33.903\n",
       "neighbourhood_cleansed_Outer Mission               16.8917     11.994      1.408      0.159      -6.621      40.404\n",
       "neighbourhood_cleansed_Outer Richmond              42.1699     11.977      3.521      0.000      18.690      65.650\n",
       "neighbourhood_cleansed_Outer Sunset                19.6111     10.808      1.815      0.070      -1.576      40.798\n",
       "neighbourhood_cleansed_Pacific Heights            134.9979     12.601     10.713      0.000     110.295     159.701\n",
       "neighbourhood_cleansed_Parkside                    18.9562     13.383      1.416      0.157      -7.279      45.191\n",
       "neighbourhood_cleansed_Potrero Hill                80.2663     11.303      7.101      0.000      58.108     102.425\n",
       "neighbourhood_cleansed_Presidio                    65.6088    105.883      0.620      0.536    -141.957     273.175\n",
       "neighbourhood_cleansed_Presidio Heights           136.8197     27.868      4.910      0.000      82.189     191.450\n",
       "neighbourhood_cleansed_Russian Hill               118.4057     12.593      9.403      0.000      93.720     143.092\n",
       "neighbourhood_cleansed_Seacliff                    -6.3616     28.538     -0.223      0.824     -62.307      49.584\n",
       "neighbourhood_cleansed_South of Market            118.0963      9.841     12.001      0.000      98.805     137.388\n",
       "neighbourhood_cleansed_Treasure Island/YBI        143.2827    106.219      1.349      0.177     -64.943     351.508\n",
       "neighbourhood_cleansed_Twin Peaks                  72.8662     16.704      4.362      0.000      40.121     105.612\n",
       "neighbourhood_cleansed_Visitacion Valley           16.0783     15.862      1.014      0.311     -15.016      47.173\n",
       "neighbourhood_cleansed_West of Twin Peaks          16.4455     13.404      1.227      0.220      -9.831      42.722\n",
       "neighbourhood_cleansed_Western Addition            93.1771      9.707      9.599      0.000      74.148     112.206\n",
       "property_type_House                                22.6606      3.629      6.244      0.000      15.546      29.775\n",
       "property_type_Other                                36.3259      4.480      8.108      0.000      27.543      45.109\n",
       "room_type_Hotel room                              -33.2173      9.261     -3.587      0.000     -51.372     -15.062\n",
       "room_type_Private room                            -37.6576      3.638    -10.352      0.000     -44.789     -30.527\n",
       "room_type_Shared room                            -114.9229      9.163    -12.542      0.000    -132.885     -96.961\n",
       "cancellation_policy_moderate                        4.8490      4.097      1.184      0.237      -3.182      12.880\n",
       "cancellation_policy_strict                        -10.4769     14.584     -0.718      0.473     -39.067      18.114\n",
       "cancellation_policy_strict_14_with_grace_period     0.9192      3.762      0.244      0.807      -6.456       8.295\n",
       "cancellation_policy_super_strict_30               -30.2538     18.227     -1.660      0.097     -65.984       5.477\n",
       "cancellation_policy_super_strict_60                95.3242     29.868      3.192      0.001      36.774     153.875\n",
       "==============================================================================\n",
       "Omnibus:                     3464.293   Durbin-Watson:                   2.017\n",
       "Prob(Omnibus):                  0.000   Jarque-Bera (JB):            48911.673\n",
       "Skew:                           2.285   Prob(JB):                         0.00\n",
       "Kurtosis:                      15.766   Cond. No.                     2.30e+05\n",
       "==============================================================================\n",
       "\n",
       "Warnings:\n",
       "[1] Standard Errors assume that the covariance matrix of the errors is correctly specified.\n",
       "[2] The condition number is large, 2.3e+05. This might indicate that there are\n",
       "strong multicollinearity or other numerical problems.\n",
       "\"\"\""
      ]
     },
     "execution_count": 43,
     "metadata": {},
     "output_type": "execute_result"
    }
   ],
   "source": [
    "import statsmodels.api as sm\n",
    "X = df_normalized\n",
    "y = price_df['price']\n",
    "\n",
    "X_train, X_test, y_train, y_test = train_test_split(X, y, test_size = 0.2, random_state = 465)\n",
    "\n",
    "X_train = sm.add_constant(X_train)\n",
    "\n",
    "results = sm.OLS(y_train, X_train).fit()\n",
    "\n",
    "results.summary()"
   ]
  },
  {
   "cell_type": "markdown",
   "metadata": {
    "slideshow": {
     "slide_type": "subslide"
    }
   },
   "source": [
    "## Regularization Models"
   ]
  },
  {
   "cell_type": "code",
   "execution_count": 44,
   "metadata": {
    "scrolled": true,
    "slideshow": {
     "slide_type": "fragment"
    }
   },
   "outputs": [],
   "source": [
    "from sklearn.linear_model import LinearRegression, LassoCV, RidgeCV, ElasticNetCV\n",
    "from sklearn.model_selection import train_test_split, cross_val_score\n",
    "from sklearn.metrics import mean_absolute_error\n",
    "from statsmodels.tools.eval_measures import mse, rmse\n",
    "X_train, X_test, y_train, y_test = train_test_split(X, y, test_size = 0.2, random_state = 465)\n",
    "alphas = [np.power(10.0,p) for p in np.arange(-10,40,1)]"
   ]
  },
  {
   "cell_type": "code",
   "execution_count": 45,
   "metadata": {
    "scrolled": false,
    "slideshow": {
     "slide_type": "subslide"
    }
   },
   "outputs": [
    {
     "name": "stdout",
     "output_type": "stream",
     "text": [
      "R-squared of the model in training set is: 0.4893088561878854\n",
      "-----Test set statistics-----\n",
      "R-squared of the model in test set is: 0.5405596331520719\n",
      "Mean absolute error of the prediction is: 62.59653182739453\n",
      "Mean squared error of the prediction is: 9453.11941617606\n",
      "Root mean squared error of the prediction is: 97.22715369780224\n",
      "Mean absolute percentage error of the prediction is: 40.87547769118613\n"
     ]
    }
   ],
   "source": [
    "lrm = LinearRegression()\n",
    "\n",
    "lrm.fit(X_train, y_train)\n",
    "\n",
    "# We are making predictions here\n",
    "y_preds_train_lrm = lrm.predict(X_train)\n",
    "y_preds_test_lrm = lrm.predict(X_test)\n",
    "\n",
    "print(\"R-squared of the model in training set is: {}\".format(lrm.score(X_train, y_train)))\n",
    "print(\"-----Test set statistics-----\")\n",
    "print(\"R-squared of the model in test set is: {}\".format(lrm.score(X_test, y_test)))\n",
    "print(\"Mean absolute error of the prediction is: {}\".format(mean_absolute_error(y_test, y_preds_test_lrm)))\n",
    "print(\"Mean squared error of the prediction is: {}\".format(mse(y_test, y_preds_test_lrm)))\n",
    "print(\"Root mean squared error of the prediction is: {}\".format(rmse(y_test, y_preds_test_lrm)))\n",
    "print(\"Mean absolute percentage error of the prediction is: {}\".format(np.mean(np.abs((y_test - y_preds_test_lrm) / y_test)) * 100))"
   ]
  },
  {
   "cell_type": "code",
   "execution_count": 46,
   "metadata": {
    "scrolled": true,
    "slideshow": {
     "slide_type": "subslide"
    }
   },
   "outputs": [
    {
     "name": "stdout",
     "output_type": "stream",
     "text": [
      "Best alpha value is: 0.01\n",
      "R-squared of the model in training set is: 0.48869521813848416\n",
      "-----Test set statistics-----\n",
      "R-squared of the model in test set is: 0.5398450083058909\n",
      "Mean absolute error of the prediction is: 62.56711749595005\n",
      "Mean squared error of the prediction is: 9467.82303060825\n",
      "Root mean squared error of the prediction is: 97.30273907043033\n",
      "Mean absolute percentage error of the prediction is: 40.78417332209372\n"
     ]
    }
   ],
   "source": [
    "lasso_cv = LassoCV(alphas=alphas, cv=5)\n",
    "\n",
    "lasso_cv.fit(X_train, y_train)\n",
    "\n",
    "# We are making predictions here\n",
    "y_preds_train_lasso = lasso_cv.predict(X_train)\n",
    "y_preds_test_lasso = lasso_cv.predict(X_test)\n",
    "\n",
    "print(\"Best alpha value is: {}\".format(lasso_cv.alpha_))\n",
    "print(\"R-squared of the model in training set is: {}\".format(lasso_cv.score(X_train, y_train)))\n",
    "print(\"-----Test set statistics-----\")\n",
    "print(\"R-squared of the model in test set is: {}\".format(lasso_cv.score(X_test, y_test)))\n",
    "print(\"Mean absolute error of the prediction is: {}\".format(mean_absolute_error(y_test, y_preds_test_lasso)))\n",
    "print(\"Mean squared error of the prediction is: {}\".format(mse(y_test, y_preds_test_lasso)))\n",
    "print(\"Root mean squared error of the prediction is: {}\".format(rmse(y_test, y_preds_test_lasso)))\n",
    "print(\"Mean absolute percentage error of the prediction is: {}\".format(np.mean(np.abs((y_test - y_preds_test_lasso) / y_test)) * 100))"
   ]
  },
  {
   "cell_type": "code",
   "execution_count": 47,
   "metadata": {
    "scrolled": true,
    "slideshow": {
     "slide_type": "subslide"
    }
   },
   "outputs": [
    {
     "name": "stdout",
     "output_type": "stream",
     "text": [
      "Best alpha value is: 1.0\n",
      "R-squared of the model in training set is: 0.4884561300146075\n",
      "-----Test set statistics-----\n",
      "R-squared of the model in test set is: 0.5400219587723946\n",
      "Mean absolute error of the prediction is: 62.671538332576645\n",
      "Mean squared error of the prediction is: 9464.18222320144\n",
      "Root mean squared error of the prediction is: 97.28402861313587\n",
      "Mean absolute percentage error of the prediction is: 40.96918774354762\n"
     ]
    }
   ],
   "source": [
    "ridge_cv = RidgeCV(alphas=alphas, cv=5)\n",
    "\n",
    "ridge_cv.fit(X_train, y_train)\n",
    "\n",
    "# We are making predictions here\n",
    "y_preds_train_ridge = ridge_cv.predict(X_train)\n",
    "y_preds_test_ridge = ridge_cv.predict(X_test)\n",
    "\n",
    "print(\"Best alpha value is: {}\".format(ridge_cv.alpha_))\n",
    "print(\"R-squared of the model in training set is: {}\".format(ridge_cv.score(X_train, y_train)))\n",
    "print(\"-----Test set statistics-----\")\n",
    "print(\"R-squared of the model in test set is: {}\".format(ridge_cv.score(X_test, y_test)))\n",
    "print(\"Mean absolute error of the prediction is: {}\".format(mean_absolute_error(y_test, y_preds_test_ridge)))\n",
    "print(\"Mean squared error of the prediction is: {}\".format(mse(y_test, y_preds_test_ridge)))\n",
    "print(\"Root mean squared error of the prediction is: {}\".format(rmse(y_test, y_preds_test_ridge)))\n",
    "print(\"Mean absolute percentage error of the prediction is: {}\".format(np.mean(np.abs((y_test - y_preds_test_ridge) / y_test)) * 100))"
   ]
  },
  {
   "cell_type": "code",
   "execution_count": 48,
   "metadata": {
    "scrolled": true,
    "slideshow": {
     "slide_type": "subslide"
    }
   },
   "outputs": [
    {
     "name": "stdout",
     "output_type": "stream",
     "text": [
      "Best alpha value is: 0.0001\n",
      "R-squared of the model in training set is: 0.4888980231904689\n",
      "-----Test set statistics-----\n",
      "R-squared of the model in test set is: 0.5401711386268704\n",
      "Mean absolute error of the prediction is: 62.633395242772195\n",
      "Mean squared error of the prediction is: 9461.112804228695\n",
      "Root mean squared error of the prediction is: 97.26825177944083\n",
      "Mean absolute percentage error of the prediction is: 40.906799439409106\n"
     ]
    }
   ],
   "source": [
    "elasticnet_cv = ElasticNetCV(alphas=alphas, cv=5)\n",
    "\n",
    "elasticnet_cv.fit(X_train, y_train)\n",
    "\n",
    "# We are making predictions here\n",
    "y_preds_train_elastic = elasticnet_cv.predict(X_train)\n",
    "y_preds_test_elastic = elasticnet_cv.predict(X_test)\n",
    "\n",
    "print(\"Best alpha value is: {}\".format(elasticnet_cv.alpha_))\n",
    "print(\"R-squared of the model in training set is: {}\".format(elasticnet_cv.score(X_train, y_train)))\n",
    "print(\"-----Test set statistics-----\")\n",
    "print(\"R-squared of the model in test set is: {}\".format(elasticnet_cv.score(X_test, y_test)))\n",
    "print(\"Mean absolute error of the prediction is: {}\".format(mean_absolute_error(y_test, y_preds_test_elastic)))\n",
    "print(\"Mean squared error of the prediction is: {}\".format(mse(y_test, y_preds_test_elastic)))\n",
    "print(\"Root mean squared error of the prediction is: {}\".format(rmse(y_test, y_preds_test_elastic)))\n",
    "print(\"Mean absolute percentage error of the prediction is: {}\".format(np.mean(np.abs((y_test - y_preds_test_elastic) / y_test)) * 100))"
   ]
  },
  {
   "cell_type": "markdown",
   "metadata": {
    "slideshow": {
     "slide_type": "slide"
    }
   },
   "source": [
    "After comparing the three linear models, I could see there was not much variation in the results. With elasticnet having the largest R-squared value at 0.54, I decided to try another regression method."
   ]
  },
  {
   "cell_type": "code",
   "execution_count": 49,
   "metadata": {
    "scrolled": true,
    "slideshow": {
     "slide_type": "skip"
    }
   },
   "outputs": [],
   "source": [
    "from sklearn import ensemble"
   ]
  },
  {
   "cell_type": "markdown",
   "metadata": {
    "slideshow": {
     "slide_type": "slide"
    }
   },
   "source": [
    "## Random Forest "
   ]
  },
  {
   "cell_type": "code",
   "execution_count": 58,
   "metadata": {
    "scrolled": true,
    "slideshow": {
     "slide_type": "fragment"
    }
   },
   "outputs": [],
   "source": [
    "rfr = ensemble.RandomForestRegressor(n_estimators=1000)\n",
    "rgr_1 = rfr.fit(X_train, y_train)\n",
    "X = df_normalized\n",
    "y = price_df['price']"
   ]
  },
  {
   "cell_type": "code",
   "execution_count": 59,
   "metadata": {
    "scrolled": true,
    "slideshow": {
     "slide_type": "fragment"
    }
   },
   "outputs": [
    {
     "data": {
      "text/plain": [
       "array([0.64955305, 0.64688758, 0.62645154, 0.51028733, 0.45089497])"
      ]
     },
     "execution_count": 59,
     "metadata": {},
     "output_type": "execute_result"
    }
   ],
   "source": [
    "cross_val_score(rfr_1, X, y, cv=5)"
   ]
  },
  {
   "cell_type": "code",
   "execution_count": 60,
   "metadata": {
    "scrolled": true,
    "slideshow": {
     "slide_type": "subslide"
    }
   },
   "outputs": [
    {
     "name": "stdout",
     "output_type": "stream",
     "text": [
      "R-squared of the model in test set is: 0.663402109320752\n",
      "Mean absolute error of the prediction is: 48.24194893894676\n",
      "Mean squared error of the prediction is: 6925.599676088312\n",
      "Root mean squared error of the prediction is: 83.22018791187816\n",
      "Mean absolute percentage error of the prediction is: 28.300303475071697\n"
     ]
    }
   ],
   "source": [
    "y_preds_test_1 = rgr_1.predict(X_test)\n",
    "print(\"R-squared of the model in test set is: {}\".format(rgr_1.score(X_test, y_test)))\n",
    "print(\"Mean absolute error of the prediction is: {}\".format(mean_absolute_error(y_test, y_preds_test_1)))\n",
    "print(\"Mean squared error of the prediction is: {}\".format(mse(y_test, y_preds_test_1)))\n",
    "print(\"Root mean squared error of the prediction is: {}\".format(rmse(y_test, y_preds_test_1)))\n",
    "print(\"Mean absolute percentage error of the prediction is: {}\".format(np.mean(np.abs((y_test - y_preds_test_1) / y_test)) * 100))"
   ]
  },
  {
   "cell_type": "markdown",
   "metadata": {
    "slideshow": {
     "slide_type": "fragment"
    }
   },
   "source": [
    "The results from the cross validation scores had some significant variation with one of the values as low as 0.45. I decided to tune the model and fit it with a bagging regressor. "
   ]
  },
  {
   "cell_type": "code",
   "execution_count": 61,
   "metadata": {
    "scrolled": true,
    "slideshow": {
     "slide_type": "subslide"
    }
   },
   "outputs": [],
   "source": [
    "from sklearn.svm import SVR\n",
    "from sklearn.ensemble import BaggingRegressor\n",
    "\n",
    "rfr_2 = ensemble.RandomForestRegressor()\n",
    "rgr_2 = BaggingRegressor(base_estimator=rfr_2,\n",
    "                        n_estimators=500, random_state=0).fit(X_train, y_train)"
   ]
  },
  {
   "cell_type": "code",
   "execution_count": 62,
   "metadata": {
    "scrolled": true,
    "slideshow": {
     "slide_type": "fragment"
    }
   },
   "outputs": [
    {
     "name": "stdout",
     "output_type": "stream",
     "text": [
      "R-squared of the model in test set is: 0.6644977471385252\n",
      "Mean absolute error of the prediction is: 48.84037743293595\n",
      "Mean squared error of the prediction is: 6903.056608748918\n",
      "Root mean squared error of the prediction is: 83.0846352146347\n",
      "Mean absolute percentage error of the prediction is: 29.689431955556678\n"
     ]
    }
   ],
   "source": [
    "y_preds_test_2 = rgr_2.predict(X_test)\n",
    "print(\"R-squared of the model in test set is: {}\".format(rgr_2.score(X_test, y_test)))\n",
    "print(\"Mean absolute error of the prediction is: {}\".format(mean_absolute_error(y_test, y_preds_test_2)))\n",
    "print(\"Mean squared error of the prediction is: {}\".format(mse(y_test, y_preds_test_2)))\n",
    "print(\"Root mean squared error of the prediction is: {}\".format(rmse(y_test, y_preds_test_2)))\n",
    "print(\"Mean absolute percentage error of the prediction is: {}\".format(np.mean(np.abs((y_test - y_preds_test_2) / y_test)) * 100))"
   ]
  },
  {
   "cell_type": "code",
   "execution_count": 63,
   "metadata": {
    "scrolled": true,
    "slideshow": {
     "slide_type": "subslide"
    }
   },
   "outputs": [],
   "source": [
    "rfr_3= ensemble.RandomForestRegressor()\n",
    "rgr_3 = BaggingRegressor(base_estimator=rfr_3,\n",
    "                        n_estimators=1000, random_state=0).fit(X_train, y_train)"
   ]
  },
  {
   "cell_type": "code",
   "execution_count": 64,
   "metadata": {
    "scrolled": true,
    "slideshow": {
     "slide_type": "fragment"
    }
   },
   "outputs": [
    {
     "name": "stdout",
     "output_type": "stream",
     "text": [
      "R-squared of the model in test set is: 0.6649466995579367\n",
      "Mean absolute error of the prediction is: 48.79354716056906\n",
      "Mean squared error of the prediction is: 6893.819281907146\n",
      "Root mean squared error of the prediction is: 83.02902674310441\n",
      "Mean absolute percentage error of the prediction is: 29.61504362830512\n"
     ]
    }
   ],
   "source": [
    "y_preds_test_3 = regr_3.predict(X_test)\n",
    "print(\"R-squared of the model in test set is: {}\".format(rgr_3.score(X_test, y_test)))\n",
    "print(\"Mean absolute error of the prediction is: {}\".format(mean_absolute_error(y_test, y_preds_test_3)))\n",
    "print(\"Mean squared error of the prediction is: {}\".format(mse(y_test, y_preds_test_3)))\n",
    "print(\"Root mean squared error of the prediction is: {}\".format(rmse(y_test, y_preds_test_3)))\n",
    "print(\"Mean absolute percentage error of the prediction is: {}\".format(np.mean(np.abs((y_test - y_preds_test_3) / y_test)) * 100))"
   ]
  },
  {
   "cell_type": "markdown",
   "metadata": {
    "slideshow": {
     "slide_type": "subslide"
    }
   },
   "source": [
    "With and R-squared value of 0.6649, the final random forest regressor is the best model. However, I would like to see better results.  In order to feel confident in my price estimations, I would hope to see an R-squared value closer to 0.8. My next concern would be the mean absolute error. With a value of 48.79, I would expect my predictions to be off by about $49. That is not an insignificant amount of money if it were to be added on to your bill each night. This model could be useful for individuals looking to rent their property. To be competitive they should know the listing prices for similar properties."
   ]
  }
 ],
 "metadata": {
  "celltoolbar": "Slideshow",
  "kernelspec": {
   "display_name": "Python 3",
   "language": "python",
   "name": "python3"
  },
  "language_info": {
   "codemirror_mode": {
    "name": "ipython",
    "version": 3
   },
   "file_extension": ".py",
   "mimetype": "text/x-python",
   "name": "python",
   "nbconvert_exporter": "python",
   "pygments_lexer": "ipython3",
   "version": "3.7.4"
  }
 },
 "nbformat": 4,
 "nbformat_minor": 2
}
